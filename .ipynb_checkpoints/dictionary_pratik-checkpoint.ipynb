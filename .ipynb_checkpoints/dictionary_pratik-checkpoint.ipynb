{
 "cells": [
  {
   "cell_type": "code",
   "execution_count": 1,
   "id": "e673ace6",
   "metadata": {},
   "outputs": [
    {
     "data": {
      "text/plain": [
       "dict"
      ]
     },
     "execution_count": 1,
     "metadata": {},
     "output_type": "execute_result"
    }
   ],
   "source": [
    "sozluk = {\"elma\":20,\"muz\":30}\n",
    "type(sozluk)"
   ]
  },
  {
   "cell_type": "code",
   "execution_count": 2,
   "id": "08452f5f",
   "metadata": {},
   "outputs": [
    {
     "data": {
      "text/plain": [
       "30"
      ]
     },
     "execution_count": 2,
     "metadata": {},
     "output_type": "execute_result"
    }
   ],
   "source": [
    "sozluk[\"muz\"]"
   ]
  },
  {
   "cell_type": "code",
   "execution_count": 3,
   "id": "0467e7dc",
   "metadata": {},
   "outputs": [
    {
     "data": {
      "text/plain": [
       "45"
      ]
     },
     "execution_count": 3,
     "metadata": {},
     "output_type": "execute_result"
    }
   ],
   "source": [
    "sozluk[\"muz\"] = 45\n",
    "sozluk[\"muz\"]"
   ]
  },
  {
   "cell_type": "code",
   "execution_count": 6,
   "id": "c08279cd",
   "metadata": {},
   "outputs": [],
   "source": [
    "digerSozluk = {1:\"ben\", -2:\"sen\", 3.3:\"biz\"}"
   ]
  },
  {
   "cell_type": "code",
   "execution_count": 8,
   "id": "62bb6dfb",
   "metadata": {},
   "outputs": [
    {
     "data": {
      "text/plain": [
       "'biz'"
      ]
     },
     "execution_count": 8,
     "metadata": {},
     "output_type": "execute_result"
    }
   ],
   "source": [
    "digerSozluk[3.3]"
   ]
  },
  {
   "cell_type": "code",
   "execution_count": 9,
   "id": "f5f0df8b",
   "metadata": {},
   "outputs": [],
   "source": [
    "acayipSozluk = {\"key1\":100, \"key2\":[12,13,14,\"slm\"], \"key3\":{\"key9\":4}}"
   ]
  },
  {
   "cell_type": "code",
   "execution_count": 10,
   "id": "3095a4a2",
   "metadata": {},
   "outputs": [
    {
     "data": {
      "text/plain": [
       "dict_values([100, [12, 13, 14, 'slm'], {'key9': 4}])"
      ]
     },
     "execution_count": 10,
     "metadata": {},
     "output_type": "execute_result"
    }
   ],
   "source": [
    "acayipSozluk.values()"
   ]
  },
  {
   "cell_type": "code",
   "execution_count": 12,
   "id": "ca6a7a0f",
   "metadata": {},
   "outputs": [
    {
     "data": {
      "text/plain": [
       "dict_keys(['key1', 'key2', 'key3'])"
      ]
     },
     "execution_count": 12,
     "metadata": {},
     "output_type": "execute_result"
    }
   ],
   "source": [
    "acayipSozluk.keys()"
   ]
  },
  {
   "cell_type": "code",
   "execution_count": 13,
   "id": "c247299f",
   "metadata": {},
   "outputs": [
    {
     "data": {
      "text/plain": [
       "'slm'"
      ]
     },
     "execution_count": 13,
     "metadata": {},
     "output_type": "execute_result"
    }
   ],
   "source": [
    "acayipSozluk[\"key2\"][3]"
   ]
  },
  {
   "cell_type": "code",
   "execution_count": 14,
   "id": "5be573bf",
   "metadata": {},
   "outputs": [
    {
     "data": {
      "text/plain": [
       "'slm'"
      ]
     },
     "execution_count": 14,
     "metadata": {},
     "output_type": "execute_result"
    }
   ],
   "source": [
    "acayipSozluk[\"key2\"][-1]"
   ]
  },
  {
   "cell_type": "code",
   "execution_count": 15,
   "id": "b6ab39e6",
   "metadata": {},
   "outputs": [
    {
     "data": {
      "text/plain": [
       "4"
      ]
     },
     "execution_count": 15,
     "metadata": {},
     "output_type": "execute_result"
    }
   ],
   "source": [
    "acayipSozluk[\"key3\"][\"key9\"]"
   ]
  },
  {
   "cell_type": "code",
   "execution_count": null,
   "id": "7366aee5",
   "metadata": {},
   "outputs": [],
   "source": []
  }
 ],
 "metadata": {
  "kernelspec": {
   "display_name": "Python 3 (ipykernel)",
   "language": "python",
   "name": "python3"
  },
  "language_info": {
   "codemirror_mode": {
    "name": "ipython",
    "version": 3
   },
   "file_extension": ".py",
   "mimetype": "text/x-python",
   "name": "python",
   "nbconvert_exporter": "python",
   "pygments_lexer": "ipython3",
   "version": "3.11.5"
  }
 },
 "nbformat": 4,
 "nbformat_minor": 5
}
