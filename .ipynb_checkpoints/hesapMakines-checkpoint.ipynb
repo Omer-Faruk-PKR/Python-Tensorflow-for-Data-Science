{
 "cells": [
  {
   "cell_type": "code",
   "execution_count": 6,
   "id": "67677b13",
   "metadata": {},
   "outputs": [
    {
     "name": "stdout",
     "output_type": "stream",
     "text": [
      "İlk sayı: 1\n",
      "İkinci sayı: 2\n",
      "İşlem: *\n",
      "1 * 2 = 2\n"
     ]
    }
   ],
   "source": [
    "def hesapla(sayi1, sayi2, islem):\n",
    "    if islem == \"+\":\n",
    "        return str(sayi1) + \" + \" + str(sayi2) + \" = \" + str(sayi1 + sayi2)\n",
    "    if islem == \"-\":\n",
    "        return str(sayi1) + \" - \" + str(sayi2) + \" = \" + str(sayi1 - sayi2)\n",
    "    if islem == \"*\":\n",
    "        return str(sayi1) + \" * \" + str(sayi2) + \" = \" + str(sayi1 * sayi2)\n",
    "    if islem == \"/\":\n",
    "        return str(sayi1) + \" / \" + str(sayi2) + \" = \" + str(sayi1 / sayi2)\n",
    "\n",
    "    \n",
    "a = int(input(\"İlk sayı: \"))\n",
    "b = int(input(\"İkinci sayı: \"))\n",
    "islem = input(\"İşlem: \")\n",
    "print(hesapla(a, b, islem))\n"
   ]
  },
  {
   "cell_type": "code",
   "execution_count": null,
   "id": "d63c8128",
   "metadata": {},
   "outputs": [],
   "source": []
  }
 ],
 "metadata": {
  "kernelspec": {
   "display_name": "Python 3 (ipykernel)",
   "language": "python",
   "name": "python3"
  },
  "language_info": {
   "codemirror_mode": {
    "name": "ipython",
    "version": 3
   },
   "file_extension": ".py",
   "mimetype": "text/x-python",
   "name": "python",
   "nbconvert_exporter": "python",
   "pygments_lexer": "ipython3",
   "version": "3.11.5"
  }
 },
 "nbformat": 4,
 "nbformat_minor": 5
}
