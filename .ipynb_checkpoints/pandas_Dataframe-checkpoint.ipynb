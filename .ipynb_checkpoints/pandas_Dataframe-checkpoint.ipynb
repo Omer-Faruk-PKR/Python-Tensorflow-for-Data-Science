{
 "cells": [
  {
   "cell_type": "code",
   "execution_count": 14,
   "id": "02e72c7b",
   "metadata": {},
   "outputs": [],
   "source": [
    "import pandas as pd\n",
    "import numpy as np"
   ]
  },
  {
   "cell_type": "code",
   "execution_count": 15,
   "id": "353c9db4",
   "metadata": {},
   "outputs": [],
   "source": [
    "data = np.random.randn(4,3)"
   ]
  },
  {
   "cell_type": "code",
   "execution_count": 16,
   "id": "1ec43471",
   "metadata": {},
   "outputs": [
    {
     "data": {
      "text/plain": [
       "array([[-0.40231102, -1.31187947, -0.72717437],\n",
       "       [ 0.11705281, -0.51734523, -0.43240088],\n",
       "       [ 0.36135332,  0.31993159, -0.32592958],\n",
       "       [ 0.21432993, -0.24728344,  1.10421189]])"
      ]
     },
     "execution_count": 16,
     "metadata": {},
     "output_type": "execute_result"
    }
   ],
   "source": [
    "data"
   ]
  },
  {
   "cell_type": "code",
   "execution_count": 17,
   "id": "766661b9",
   "metadata": {},
   "outputs": [],
   "source": [
    "dataFrame = pd.DataFrame(data)"
   ]
  },
  {
   "cell_type": "code",
   "execution_count": 18,
   "id": "79cdd645",
   "metadata": {},
   "outputs": [
    {
     "data": {
      "text/html": [
       "<div>\n",
       "<style scoped>\n",
       "    .dataframe tbody tr th:only-of-type {\n",
       "        vertical-align: middle;\n",
       "    }\n",
       "\n",
       "    .dataframe tbody tr th {\n",
       "        vertical-align: top;\n",
       "    }\n",
       "\n",
       "    .dataframe thead th {\n",
       "        text-align: right;\n",
       "    }\n",
       "</style>\n",
       "<table border=\"1\" class=\"dataframe\">\n",
       "  <thead>\n",
       "    <tr style=\"text-align: right;\">\n",
       "      <th></th>\n",
       "      <th>0</th>\n",
       "      <th>1</th>\n",
       "      <th>2</th>\n",
       "    </tr>\n",
       "  </thead>\n",
       "  <tbody>\n",
       "    <tr>\n",
       "      <th>0</th>\n",
       "      <td>-0.402311</td>\n",
       "      <td>-1.311879</td>\n",
       "      <td>-0.727174</td>\n",
       "    </tr>\n",
       "    <tr>\n",
       "      <th>1</th>\n",
       "      <td>0.117053</td>\n",
       "      <td>-0.517345</td>\n",
       "      <td>-0.432401</td>\n",
       "    </tr>\n",
       "    <tr>\n",
       "      <th>2</th>\n",
       "      <td>0.361353</td>\n",
       "      <td>0.319932</td>\n",
       "      <td>-0.325930</td>\n",
       "    </tr>\n",
       "    <tr>\n",
       "      <th>3</th>\n",
       "      <td>0.214330</td>\n",
       "      <td>-0.247283</td>\n",
       "      <td>1.104212</td>\n",
       "    </tr>\n",
       "  </tbody>\n",
       "</table>\n",
       "</div>"
      ],
      "text/plain": [
       "          0         1         2\n",
       "0 -0.402311 -1.311879 -0.727174\n",
       "1  0.117053 -0.517345 -0.432401\n",
       "2  0.361353  0.319932 -0.325930\n",
       "3  0.214330 -0.247283  1.104212"
      ]
     },
     "execution_count": 18,
     "metadata": {},
     "output_type": "execute_result"
    }
   ],
   "source": [
    "dataFrame"
   ]
  },
  {
   "cell_type": "code",
   "execution_count": 19,
   "id": "e9d7ccce",
   "metadata": {},
   "outputs": [
    {
     "data": {
      "text/plain": [
       "0   -0.402311\n",
       "1    0.117053\n",
       "2    0.361353\n",
       "3    0.214330\n",
       "Name: 0, dtype: float64"
      ]
     },
     "execution_count": 19,
     "metadata": {},
     "output_type": "execute_result"
    }
   ],
   "source": [
    "dataFrame[0]"
   ]
  },
  {
   "cell_type": "code",
   "execution_count": 20,
   "id": "d1d28a5d",
   "metadata": {},
   "outputs": [
    {
     "data": {
      "text/plain": [
       "pandas.core.series.Series"
      ]
     },
     "execution_count": 20,
     "metadata": {},
     "output_type": "execute_result"
    }
   ],
   "source": [
    "type(dataFrame[0])"
   ]
  },
  {
   "cell_type": "code",
   "execution_count": 21,
   "id": "84def6c2",
   "metadata": {},
   "outputs": [],
   "source": [
    "yeniDataFrame = pd.DataFrame(data,index=[\"ömer\",\"nimet\",\"ali\",\"asli\"], columns = [\"maas\",\"yas\",\"calisma saati\"])"
   ]
  },
  {
   "cell_type": "code",
   "execution_count": 22,
   "id": "cb892a27",
   "metadata": {},
   "outputs": [
    {
     "data": {
      "text/html": [
       "<div>\n",
       "<style scoped>\n",
       "    .dataframe tbody tr th:only-of-type {\n",
       "        vertical-align: middle;\n",
       "    }\n",
       "\n",
       "    .dataframe tbody tr th {\n",
       "        vertical-align: top;\n",
       "    }\n",
       "\n",
       "    .dataframe thead th {\n",
       "        text-align: right;\n",
       "    }\n",
       "</style>\n",
       "<table border=\"1\" class=\"dataframe\">\n",
       "  <thead>\n",
       "    <tr style=\"text-align: right;\">\n",
       "      <th></th>\n",
       "      <th>maas</th>\n",
       "      <th>yas</th>\n",
       "      <th>calisma saati</th>\n",
       "    </tr>\n",
       "  </thead>\n",
       "  <tbody>\n",
       "    <tr>\n",
       "      <th>ömer</th>\n",
       "      <td>-0.402311</td>\n",
       "      <td>-1.311879</td>\n",
       "      <td>-0.727174</td>\n",
       "    </tr>\n",
       "    <tr>\n",
       "      <th>nimet</th>\n",
       "      <td>0.117053</td>\n",
       "      <td>-0.517345</td>\n",
       "      <td>-0.432401</td>\n",
       "    </tr>\n",
       "    <tr>\n",
       "      <th>ali</th>\n",
       "      <td>0.361353</td>\n",
       "      <td>0.319932</td>\n",
       "      <td>-0.325930</td>\n",
       "    </tr>\n",
       "    <tr>\n",
       "      <th>asli</th>\n",
       "      <td>0.214330</td>\n",
       "      <td>-0.247283</td>\n",
       "      <td>1.104212</td>\n",
       "    </tr>\n",
       "  </tbody>\n",
       "</table>\n",
       "</div>"
      ],
      "text/plain": [
       "           maas       yas  calisma saati\n",
       "ömer  -0.402311 -1.311879      -0.727174\n",
       "nimet  0.117053 -0.517345      -0.432401\n",
       "ali    0.361353  0.319932      -0.325930\n",
       "asli   0.214330 -0.247283       1.104212"
      ]
     },
     "execution_count": 22,
     "metadata": {},
     "output_type": "execute_result"
    }
   ],
   "source": [
    "yeniDataFrame"
   ]
  },
  {
   "cell_type": "code",
   "execution_count": 23,
   "id": "21aa299e",
   "metadata": {},
   "outputs": [
    {
     "data": {
      "text/plain": [
       "ömer    -1.311879\n",
       "nimet   -0.517345\n",
       "ali      0.319932\n",
       "asli    -0.247283\n",
       "Name: yas, dtype: float64"
      ]
     },
     "execution_count": 23,
     "metadata": {},
     "output_type": "execute_result"
    }
   ],
   "source": [
    "yeniDataFrame[\"yas\"]"
   ]
  },
  {
   "cell_type": "code",
   "execution_count": 24,
   "id": "5ee594c1",
   "metadata": {},
   "outputs": [
    {
     "data": {
      "text/plain": [
       "ömer    -0.727174\n",
       "nimet   -0.432401\n",
       "ali     -0.325930\n",
       "asli     1.104212\n",
       "Name: calisma saati, dtype: float64"
      ]
     },
     "execution_count": 24,
     "metadata": {},
     "output_type": "execute_result"
    }
   ],
   "source": [
    "yeniDataFrame[\"calisma saati\"]"
   ]
  },
  {
   "cell_type": "code",
   "execution_count": 25,
   "id": "5656b190",
   "metadata": {},
   "outputs": [
    {
     "data": {
      "text/html": [
       "<div>\n",
       "<style scoped>\n",
       "    .dataframe tbody tr th:only-of-type {\n",
       "        vertical-align: middle;\n",
       "    }\n",
       "\n",
       "    .dataframe tbody tr th {\n",
       "        vertical-align: top;\n",
       "    }\n",
       "\n",
       "    .dataframe thead th {\n",
       "        text-align: right;\n",
       "    }\n",
       "</style>\n",
       "<table border=\"1\" class=\"dataframe\">\n",
       "  <thead>\n",
       "    <tr style=\"text-align: right;\">\n",
       "      <th></th>\n",
       "      <th>maas</th>\n",
       "      <th>yas</th>\n",
       "    </tr>\n",
       "  </thead>\n",
       "  <tbody>\n",
       "    <tr>\n",
       "      <th>ömer</th>\n",
       "      <td>-0.402311</td>\n",
       "      <td>-1.311879</td>\n",
       "    </tr>\n",
       "    <tr>\n",
       "      <th>nimet</th>\n",
       "      <td>0.117053</td>\n",
       "      <td>-0.517345</td>\n",
       "    </tr>\n",
       "    <tr>\n",
       "      <th>ali</th>\n",
       "      <td>0.361353</td>\n",
       "      <td>0.319932</td>\n",
       "    </tr>\n",
       "    <tr>\n",
       "      <th>asli</th>\n",
       "      <td>0.214330</td>\n",
       "      <td>-0.247283</td>\n",
       "    </tr>\n",
       "  </tbody>\n",
       "</table>\n",
       "</div>"
      ],
      "text/plain": [
       "           maas       yas\n",
       "ömer  -0.402311 -1.311879\n",
       "nimet  0.117053 -0.517345\n",
       "ali    0.361353  0.319932\n",
       "asli   0.214330 -0.247283"
      ]
     },
     "execution_count": 25,
     "metadata": {},
     "output_type": "execute_result"
    }
   ],
   "source": [
    "yeniDataFrame[[\"maas\",\"yas\"]]"
   ]
  },
  {
   "cell_type": "code",
   "execution_count": 26,
   "id": "555f77ee",
   "metadata": {},
   "outputs": [
    {
     "ename": "KeyError",
     "evalue": "'ömer'",
     "output_type": "error",
     "traceback": [
      "\u001b[1;31m---------------------------------------------------------------------------\u001b[0m",
      "\u001b[1;31mKeyError\u001b[0m                                  Traceback (most recent call last)",
      "File \u001b[1;32mC:\\ProgramData\\anaconda3\\Lib\\site-packages\\pandas\\core\\indexes\\base.py:3653\u001b[0m, in \u001b[0;36mIndex.get_loc\u001b[1;34m(self, key)\u001b[0m\n\u001b[0;32m   3652\u001b[0m \u001b[38;5;28;01mtry\u001b[39;00m:\n\u001b[1;32m-> 3653\u001b[0m     \u001b[38;5;28;01mreturn\u001b[39;00m \u001b[38;5;28mself\u001b[39m\u001b[38;5;241m.\u001b[39m_engine\u001b[38;5;241m.\u001b[39mget_loc(casted_key)\n\u001b[0;32m   3654\u001b[0m \u001b[38;5;28;01mexcept\u001b[39;00m \u001b[38;5;167;01mKeyError\u001b[39;00m \u001b[38;5;28;01mas\u001b[39;00m err:\n",
      "File \u001b[1;32mC:\\ProgramData\\anaconda3\\Lib\\site-packages\\pandas\\_libs\\index.pyx:147\u001b[0m, in \u001b[0;36mpandas._libs.index.IndexEngine.get_loc\u001b[1;34m()\u001b[0m\n",
      "File \u001b[1;32mC:\\ProgramData\\anaconda3\\Lib\\site-packages\\pandas\\_libs\\index.pyx:176\u001b[0m, in \u001b[0;36mpandas._libs.index.IndexEngine.get_loc\u001b[1;34m()\u001b[0m\n",
      "File \u001b[1;32mpandas\\_libs\\hashtable_class_helper.pxi:7080\u001b[0m, in \u001b[0;36mpandas._libs.hashtable.PyObjectHashTable.get_item\u001b[1;34m()\u001b[0m\n",
      "File \u001b[1;32mpandas\\_libs\\hashtable_class_helper.pxi:7088\u001b[0m, in \u001b[0;36mpandas._libs.hashtable.PyObjectHashTable.get_item\u001b[1;34m()\u001b[0m\n",
      "\u001b[1;31mKeyError\u001b[0m: 'ömer'",
      "\nThe above exception was the direct cause of the following exception:\n",
      "\u001b[1;31mKeyError\u001b[0m                                  Traceback (most recent call last)",
      "Cell \u001b[1;32mIn[26], line 1\u001b[0m\n\u001b[1;32m----> 1\u001b[0m yeniDataFrame[\u001b[38;5;124m\"\u001b[39m\u001b[38;5;124mömer\u001b[39m\u001b[38;5;124m\"\u001b[39m]\n",
      "File \u001b[1;32mC:\\ProgramData\\anaconda3\\Lib\\site-packages\\pandas\\core\\frame.py:3761\u001b[0m, in \u001b[0;36mDataFrame.__getitem__\u001b[1;34m(self, key)\u001b[0m\n\u001b[0;32m   3759\u001b[0m \u001b[38;5;28;01mif\u001b[39;00m \u001b[38;5;28mself\u001b[39m\u001b[38;5;241m.\u001b[39mcolumns\u001b[38;5;241m.\u001b[39mnlevels \u001b[38;5;241m>\u001b[39m \u001b[38;5;241m1\u001b[39m:\n\u001b[0;32m   3760\u001b[0m     \u001b[38;5;28;01mreturn\u001b[39;00m \u001b[38;5;28mself\u001b[39m\u001b[38;5;241m.\u001b[39m_getitem_multilevel(key)\n\u001b[1;32m-> 3761\u001b[0m indexer \u001b[38;5;241m=\u001b[39m \u001b[38;5;28mself\u001b[39m\u001b[38;5;241m.\u001b[39mcolumns\u001b[38;5;241m.\u001b[39mget_loc(key)\n\u001b[0;32m   3762\u001b[0m \u001b[38;5;28;01mif\u001b[39;00m is_integer(indexer):\n\u001b[0;32m   3763\u001b[0m     indexer \u001b[38;5;241m=\u001b[39m [indexer]\n",
      "File \u001b[1;32mC:\\ProgramData\\anaconda3\\Lib\\site-packages\\pandas\\core\\indexes\\base.py:3655\u001b[0m, in \u001b[0;36mIndex.get_loc\u001b[1;34m(self, key)\u001b[0m\n\u001b[0;32m   3653\u001b[0m     \u001b[38;5;28;01mreturn\u001b[39;00m \u001b[38;5;28mself\u001b[39m\u001b[38;5;241m.\u001b[39m_engine\u001b[38;5;241m.\u001b[39mget_loc(casted_key)\n\u001b[0;32m   3654\u001b[0m \u001b[38;5;28;01mexcept\u001b[39;00m \u001b[38;5;167;01mKeyError\u001b[39;00m \u001b[38;5;28;01mas\u001b[39;00m err:\n\u001b[1;32m-> 3655\u001b[0m     \u001b[38;5;28;01mraise\u001b[39;00m \u001b[38;5;167;01mKeyError\u001b[39;00m(key) \u001b[38;5;28;01mfrom\u001b[39;00m \u001b[38;5;21;01merr\u001b[39;00m\n\u001b[0;32m   3656\u001b[0m \u001b[38;5;28;01mexcept\u001b[39;00m \u001b[38;5;167;01mTypeError\u001b[39;00m:\n\u001b[0;32m   3657\u001b[0m     \u001b[38;5;66;03m# If we have a listlike key, _check_indexing_error will raise\u001b[39;00m\n\u001b[0;32m   3658\u001b[0m     \u001b[38;5;66;03m#  InvalidIndexError. Otherwise we fall through and re-raise\u001b[39;00m\n\u001b[0;32m   3659\u001b[0m     \u001b[38;5;66;03m#  the TypeError.\u001b[39;00m\n\u001b[0;32m   3660\u001b[0m     \u001b[38;5;28mself\u001b[39m\u001b[38;5;241m.\u001b[39m_check_indexing_error(key)\n",
      "\u001b[1;31mKeyError\u001b[0m: 'ömer'"
     ]
    }
   ],
   "source": [
    "yeniDataFrame[\"ömer\"]"
   ]
  },
  {
   "cell_type": "code",
   "execution_count": null,
   "id": "8ffdf28a",
   "metadata": {},
   "outputs": [],
   "source": [
    "yeniDataFrame.loc[\"ömer\"] #locator"
   ]
  },
  {
   "cell_type": "code",
   "execution_count": null,
   "id": "43fdba4b",
   "metadata": {},
   "outputs": [],
   "source": [
    "yeniDataFrame.loc[\"asli\"]"
   ]
  },
  {
   "cell_type": "code",
   "execution_count": null,
   "id": "c55e0030",
   "metadata": {},
   "outputs": [],
   "source": [
    "yeniDataFrame.iloc[3] #index locator"
   ]
  },
  {
   "cell_type": "code",
   "execution_count": null,
   "id": "6f90bb92",
   "metadata": {},
   "outputs": [],
   "source": [
    "yeniDataFrame[\"emeklilik yasi\"] = yeniDataFrame[\"yas\"] + yeniDataFrame[\"yas\"]"
   ]
  },
  {
   "cell_type": "code",
   "execution_count": null,
   "id": "1f547330",
   "metadata": {},
   "outputs": [],
   "source": [
    "yeniDataFrame"
   ]
  },
  {
   "cell_type": "code",
   "execution_count": null,
   "id": "3db98619",
   "metadata": {},
   "outputs": [],
   "source": [
    "yeniDataFrame.drop(\"emeklilik yasi\")"
   ]
  },
  {
   "cell_type": "code",
   "execution_count": null,
   "id": "7226d560",
   "metadata": {},
   "outputs": [],
   "source": [
    "yeniDataFrame.drop(\"emeklilik yasi\", axis=1)"
   ]
  },
  {
   "cell_type": "code",
   "execution_count": null,
   "id": "7344419b",
   "metadata": {},
   "outputs": [],
   "source": [
    "yeniDataFrame.drop(\"ömer\")"
   ]
  },
  {
   "cell_type": "code",
   "execution_count": null,
   "id": "902563c1",
   "metadata": {},
   "outputs": [],
   "source": [
    "yeniDataFrame.drop(\"ali\",axis=0)"
   ]
  },
  {
   "cell_type": "code",
   "execution_count": null,
   "id": "ba16011b",
   "metadata": {},
   "outputs": [],
   "source": [
    "yeniDataFrame"
   ]
  },
  {
   "cell_type": "code",
   "execution_count": null,
   "id": "1dc90046",
   "metadata": {},
   "outputs": [],
   "source": [
    "yeniDataFrame.drop(\"emeklilik yasi\", axis=1, inplace=True)"
   ]
  },
  {
   "cell_type": "code",
   "execution_count": null,
   "id": "07c3d38d",
   "metadata": {},
   "outputs": [],
   "source": [
    "yeniDataFrame #inplace=True sayesinde değiştirilmiş oldu"
   ]
  },
  {
   "cell_type": "code",
   "execution_count": null,
   "id": "204cd974",
   "metadata": {},
   "outputs": [],
   "source": [
    "yeniDataFrame.loc[\"ömer\"]"
   ]
  },
  {
   "cell_type": "code",
   "execution_count": null,
   "id": "e5645e89",
   "metadata": {},
   "outputs": [],
   "source": [
    "yeniDataFrame.loc[\"ömer\"][\"yas\"]"
   ]
  },
  {
   "cell_type": "code",
   "execution_count": null,
   "id": "2d0c8a74",
   "metadata": {},
   "outputs": [],
   "source": [
    "yeniDataFrame.loc[\"nimet\",\"maas\"]"
   ]
  },
  {
   "cell_type": "code",
   "execution_count": null,
   "id": "f8e38a61",
   "metadata": {},
   "outputs": [],
   "source": [
    "yeniDataFrame"
   ]
  },
  {
   "cell_type": "code",
   "execution_count": null,
   "id": "1640ebd5",
   "metadata": {},
   "outputs": [],
   "source": [
    "yeniDataFrame < 0"
   ]
  },
  {
   "cell_type": "code",
   "execution_count": null,
   "id": "b4bf828e",
   "metadata": {},
   "outputs": [],
   "source": [
    "booleanFrame = yeniDataFrame < 0"
   ]
  },
  {
   "cell_type": "code",
   "execution_count": null,
   "id": "5eca0038",
   "metadata": {},
   "outputs": [],
   "source": [
    "booleanFrame"
   ]
  },
  {
   "cell_type": "code",
   "execution_count": null,
   "id": "afd42268",
   "metadata": {},
   "outputs": [],
   "source": [
    "yeniDataFrame[booleanFrame]"
   ]
  },
  {
   "cell_type": "code",
   "execution_count": null,
   "id": "76d6beff",
   "metadata": {},
   "outputs": [],
   "source": [
    "yeniDataFrame[yeniDataFrame < 0]"
   ]
  },
  {
   "cell_type": "code",
   "execution_count": null,
   "id": "5389705b",
   "metadata": {},
   "outputs": [],
   "source": [
    "yeniDataFrame[\"yas\"]"
   ]
  },
  {
   "cell_type": "code",
   "execution_count": null,
   "id": "a8e1f0a5",
   "metadata": {},
   "outputs": [],
   "source": [
    "yeniDataFrame[\"yas\"] > 0"
   ]
  },
  {
   "cell_type": "code",
   "execution_count": null,
   "id": "f20f80e2",
   "metadata": {},
   "outputs": [],
   "source": [
    "yeniDataFrame[yeniDataFrame[\"yas\"] > 0]"
   ]
  },
  {
   "cell_type": "code",
   "execution_count": 27,
   "id": "d449c906",
   "metadata": {},
   "outputs": [
    {
     "data": {
      "text/html": [
       "<div>\n",
       "<style scoped>\n",
       "    .dataframe tbody tr th:only-of-type {\n",
       "        vertical-align: middle;\n",
       "    }\n",
       "\n",
       "    .dataframe tbody tr th {\n",
       "        vertical-align: top;\n",
       "    }\n",
       "\n",
       "    .dataframe thead th {\n",
       "        text-align: right;\n",
       "    }\n",
       "</style>\n",
       "<table border=\"1\" class=\"dataframe\">\n",
       "  <thead>\n",
       "    <tr style=\"text-align: right;\">\n",
       "      <th></th>\n",
       "      <th>maas</th>\n",
       "      <th>yas</th>\n",
       "      <th>calisma saati</th>\n",
       "    </tr>\n",
       "  </thead>\n",
       "  <tbody>\n",
       "    <tr>\n",
       "      <th>asli</th>\n",
       "      <td>0.21433</td>\n",
       "      <td>-0.247283</td>\n",
       "      <td>1.104212</td>\n",
       "    </tr>\n",
       "  </tbody>\n",
       "</table>\n",
       "</div>"
      ],
      "text/plain": [
       "         maas       yas  calisma saati\n",
       "asli  0.21433 -0.247283       1.104212"
      ]
     },
     "execution_count": 27,
     "metadata": {},
     "output_type": "execute_result"
    }
   ],
   "source": [
    "yeniDataFrame[yeniDataFrame[\"calisma saati\"] > 0]"
   ]
  },
  {
   "cell_type": "code",
   "execution_count": 28,
   "id": "9bb40cf6",
   "metadata": {},
   "outputs": [],
   "source": [
    "# bu şekilde filtreleme yapılabilir"
   ]
  },
  {
   "cell_type": "code",
   "execution_count": 29,
   "id": "849f88d7",
   "metadata": {},
   "outputs": [
    {
     "data": {
      "text/html": [
       "<div>\n",
       "<style scoped>\n",
       "    .dataframe tbody tr th:only-of-type {\n",
       "        vertical-align: middle;\n",
       "    }\n",
       "\n",
       "    .dataframe tbody tr th {\n",
       "        vertical-align: top;\n",
       "    }\n",
       "\n",
       "    .dataframe thead th {\n",
       "        text-align: right;\n",
       "    }\n",
       "</style>\n",
       "<table border=\"1\" class=\"dataframe\">\n",
       "  <thead>\n",
       "    <tr style=\"text-align: right;\">\n",
       "      <th></th>\n",
       "      <th>maas</th>\n",
       "      <th>yas</th>\n",
       "      <th>calisma saati</th>\n",
       "    </tr>\n",
       "  </thead>\n",
       "  <tbody>\n",
       "    <tr>\n",
       "      <th>ömer</th>\n",
       "      <td>-0.402311</td>\n",
       "      <td>-1.311879</td>\n",
       "      <td>-0.727174</td>\n",
       "    </tr>\n",
       "    <tr>\n",
       "      <th>nimet</th>\n",
       "      <td>0.117053</td>\n",
       "      <td>-0.517345</td>\n",
       "      <td>-0.432401</td>\n",
       "    </tr>\n",
       "    <tr>\n",
       "      <th>ali</th>\n",
       "      <td>0.361353</td>\n",
       "      <td>0.319932</td>\n",
       "      <td>-0.325930</td>\n",
       "    </tr>\n",
       "    <tr>\n",
       "      <th>asli</th>\n",
       "      <td>0.214330</td>\n",
       "      <td>-0.247283</td>\n",
       "      <td>1.104212</td>\n",
       "    </tr>\n",
       "  </tbody>\n",
       "</table>\n",
       "</div>"
      ],
      "text/plain": [
       "           maas       yas  calisma saati\n",
       "ömer  -0.402311 -1.311879      -0.727174\n",
       "nimet  0.117053 -0.517345      -0.432401\n",
       "ali    0.361353  0.319932      -0.325930\n",
       "asli   0.214330 -0.247283       1.104212"
      ]
     },
     "execution_count": 29,
     "metadata": {},
     "output_type": "execute_result"
    }
   ],
   "source": [
    "yeniDataFrame"
   ]
  },
  {
   "cell_type": "code",
   "execution_count": 30,
   "id": "780c79e4",
   "metadata": {},
   "outputs": [
    {
     "data": {
      "text/html": [
       "<div>\n",
       "<style scoped>\n",
       "    .dataframe tbody tr th:only-of-type {\n",
       "        vertical-align: middle;\n",
       "    }\n",
       "\n",
       "    .dataframe tbody tr th {\n",
       "        vertical-align: top;\n",
       "    }\n",
       "\n",
       "    .dataframe thead th {\n",
       "        text-align: right;\n",
       "    }\n",
       "</style>\n",
       "<table border=\"1\" class=\"dataframe\">\n",
       "  <thead>\n",
       "    <tr style=\"text-align: right;\">\n",
       "      <th></th>\n",
       "      <th>index</th>\n",
       "      <th>maas</th>\n",
       "      <th>yas</th>\n",
       "      <th>calisma saati</th>\n",
       "    </tr>\n",
       "  </thead>\n",
       "  <tbody>\n",
       "    <tr>\n",
       "      <th>0</th>\n",
       "      <td>ömer</td>\n",
       "      <td>-0.402311</td>\n",
       "      <td>-1.311879</td>\n",
       "      <td>-0.727174</td>\n",
       "    </tr>\n",
       "    <tr>\n",
       "      <th>1</th>\n",
       "      <td>nimet</td>\n",
       "      <td>0.117053</td>\n",
       "      <td>-0.517345</td>\n",
       "      <td>-0.432401</td>\n",
       "    </tr>\n",
       "    <tr>\n",
       "      <th>2</th>\n",
       "      <td>ali</td>\n",
       "      <td>0.361353</td>\n",
       "      <td>0.319932</td>\n",
       "      <td>-0.325930</td>\n",
       "    </tr>\n",
       "    <tr>\n",
       "      <th>3</th>\n",
       "      <td>asli</td>\n",
       "      <td>0.214330</td>\n",
       "      <td>-0.247283</td>\n",
       "      <td>1.104212</td>\n",
       "    </tr>\n",
       "  </tbody>\n",
       "</table>\n",
       "</div>"
      ],
      "text/plain": [
       "   index      maas       yas  calisma saati\n",
       "0   ömer -0.402311 -1.311879      -0.727174\n",
       "1  nimet  0.117053 -0.517345      -0.432401\n",
       "2    ali  0.361353  0.319932      -0.325930\n",
       "3   asli  0.214330 -0.247283       1.104212"
      ]
     },
     "execution_count": 30,
     "metadata": {},
     "output_type": "execute_result"
    }
   ],
   "source": [
    "yeniDataFrame.reset_index()"
   ]
  },
  {
   "cell_type": "code",
   "execution_count": 32,
   "id": "472c9ce8",
   "metadata": {},
   "outputs": [
    {
     "data": {
      "text/html": [
       "<div>\n",
       "<style scoped>\n",
       "    .dataframe tbody tr th:only-of-type {\n",
       "        vertical-align: middle;\n",
       "    }\n",
       "\n",
       "    .dataframe tbody tr th {\n",
       "        vertical-align: top;\n",
       "    }\n",
       "\n",
       "    .dataframe thead th {\n",
       "        text-align: right;\n",
       "    }\n",
       "</style>\n",
       "<table border=\"1\" class=\"dataframe\">\n",
       "  <thead>\n",
       "    <tr style=\"text-align: right;\">\n",
       "      <th></th>\n",
       "      <th>maas</th>\n",
       "      <th>yas</th>\n",
       "      <th>calisma saati</th>\n",
       "    </tr>\n",
       "  </thead>\n",
       "  <tbody>\n",
       "    <tr>\n",
       "      <th>ömer</th>\n",
       "      <td>-0.402311</td>\n",
       "      <td>-1.311879</td>\n",
       "      <td>-0.727174</td>\n",
       "    </tr>\n",
       "    <tr>\n",
       "      <th>nimet</th>\n",
       "      <td>0.117053</td>\n",
       "      <td>-0.517345</td>\n",
       "      <td>-0.432401</td>\n",
       "    </tr>\n",
       "    <tr>\n",
       "      <th>ali</th>\n",
       "      <td>0.361353</td>\n",
       "      <td>0.319932</td>\n",
       "      <td>-0.325930</td>\n",
       "    </tr>\n",
       "    <tr>\n",
       "      <th>asli</th>\n",
       "      <td>0.214330</td>\n",
       "      <td>-0.247283</td>\n",
       "      <td>1.104212</td>\n",
       "    </tr>\n",
       "  </tbody>\n",
       "</table>\n",
       "</div>"
      ],
      "text/plain": [
       "           maas       yas  calisma saati\n",
       "ömer  -0.402311 -1.311879      -0.727174\n",
       "nimet  0.117053 -0.517345      -0.432401\n",
       "ali    0.361353  0.319932      -0.325930\n",
       "asli   0.214330 -0.247283       1.104212"
      ]
     },
     "execution_count": 32,
     "metadata": {},
     "output_type": "execute_result"
    }
   ],
   "source": [
    "yeniDataFrame #inplace true yapmazsan değişmez"
   ]
  },
  {
   "cell_type": "code",
   "execution_count": 33,
   "id": "8686f403",
   "metadata": {},
   "outputs": [],
   "source": [
    "yeniIndexListesi = [\"öm\",\"nim\",\"al\",\"as\"]"
   ]
  },
  {
   "cell_type": "code",
   "execution_count": 34,
   "id": "f30b88cd",
   "metadata": {},
   "outputs": [],
   "source": [
    "yeniDataFrame[\"Yeni Indeks\"] = yeniIndexListesi"
   ]
  },
  {
   "cell_type": "code",
   "execution_count": 35,
   "id": "3b940ad6",
   "metadata": {},
   "outputs": [
    {
     "data": {
      "text/html": [
       "<div>\n",
       "<style scoped>\n",
       "    .dataframe tbody tr th:only-of-type {\n",
       "        vertical-align: middle;\n",
       "    }\n",
       "\n",
       "    .dataframe tbody tr th {\n",
       "        vertical-align: top;\n",
       "    }\n",
       "\n",
       "    .dataframe thead th {\n",
       "        text-align: right;\n",
       "    }\n",
       "</style>\n",
       "<table border=\"1\" class=\"dataframe\">\n",
       "  <thead>\n",
       "    <tr style=\"text-align: right;\">\n",
       "      <th></th>\n",
       "      <th>maas</th>\n",
       "      <th>yas</th>\n",
       "      <th>calisma saati</th>\n",
       "      <th>Yeni Indeks</th>\n",
       "    </tr>\n",
       "  </thead>\n",
       "  <tbody>\n",
       "    <tr>\n",
       "      <th>ömer</th>\n",
       "      <td>-0.402311</td>\n",
       "      <td>-1.311879</td>\n",
       "      <td>-0.727174</td>\n",
       "      <td>öm</td>\n",
       "    </tr>\n",
       "    <tr>\n",
       "      <th>nimet</th>\n",
       "      <td>0.117053</td>\n",
       "      <td>-0.517345</td>\n",
       "      <td>-0.432401</td>\n",
       "      <td>nim</td>\n",
       "    </tr>\n",
       "    <tr>\n",
       "      <th>ali</th>\n",
       "      <td>0.361353</td>\n",
       "      <td>0.319932</td>\n",
       "      <td>-0.325930</td>\n",
       "      <td>al</td>\n",
       "    </tr>\n",
       "    <tr>\n",
       "      <th>asli</th>\n",
       "      <td>0.214330</td>\n",
       "      <td>-0.247283</td>\n",
       "      <td>1.104212</td>\n",
       "      <td>as</td>\n",
       "    </tr>\n",
       "  </tbody>\n",
       "</table>\n",
       "</div>"
      ],
      "text/plain": [
       "           maas       yas  calisma saati Yeni Indeks\n",
       "ömer  -0.402311 -1.311879      -0.727174          öm\n",
       "nimet  0.117053 -0.517345      -0.432401         nim\n",
       "ali    0.361353  0.319932      -0.325930          al\n",
       "asli   0.214330 -0.247283       1.104212          as"
      ]
     },
     "execution_count": 35,
     "metadata": {},
     "output_type": "execute_result"
    }
   ],
   "source": [
    "yeniDataFrame"
   ]
  },
  {
   "cell_type": "code",
   "execution_count": 36,
   "id": "ad5b2504",
   "metadata": {},
   "outputs": [
    {
     "data": {
      "text/html": [
       "<div>\n",
       "<style scoped>\n",
       "    .dataframe tbody tr th:only-of-type {\n",
       "        vertical-align: middle;\n",
       "    }\n",
       "\n",
       "    .dataframe tbody tr th {\n",
       "        vertical-align: top;\n",
       "    }\n",
       "\n",
       "    .dataframe thead th {\n",
       "        text-align: right;\n",
       "    }\n",
       "</style>\n",
       "<table border=\"1\" class=\"dataframe\">\n",
       "  <thead>\n",
       "    <tr style=\"text-align: right;\">\n",
       "      <th></th>\n",
       "      <th>maas</th>\n",
       "      <th>yas</th>\n",
       "      <th>calisma saati</th>\n",
       "    </tr>\n",
       "    <tr>\n",
       "      <th>Yeni Indeks</th>\n",
       "      <th></th>\n",
       "      <th></th>\n",
       "      <th></th>\n",
       "    </tr>\n",
       "  </thead>\n",
       "  <tbody>\n",
       "    <tr>\n",
       "      <th>öm</th>\n",
       "      <td>-0.402311</td>\n",
       "      <td>-1.311879</td>\n",
       "      <td>-0.727174</td>\n",
       "    </tr>\n",
       "    <tr>\n",
       "      <th>nim</th>\n",
       "      <td>0.117053</td>\n",
       "      <td>-0.517345</td>\n",
       "      <td>-0.432401</td>\n",
       "    </tr>\n",
       "    <tr>\n",
       "      <th>al</th>\n",
       "      <td>0.361353</td>\n",
       "      <td>0.319932</td>\n",
       "      <td>-0.325930</td>\n",
       "    </tr>\n",
       "    <tr>\n",
       "      <th>as</th>\n",
       "      <td>0.214330</td>\n",
       "      <td>-0.247283</td>\n",
       "      <td>1.104212</td>\n",
       "    </tr>\n",
       "  </tbody>\n",
       "</table>\n",
       "</div>"
      ],
      "text/plain": [
       "                 maas       yas  calisma saati\n",
       "Yeni Indeks                                   \n",
       "öm          -0.402311 -1.311879      -0.727174\n",
       "nim          0.117053 -0.517345      -0.432401\n",
       "al           0.361353  0.319932      -0.325930\n",
       "as           0.214330 -0.247283       1.104212"
      ]
     },
     "execution_count": 36,
     "metadata": {},
     "output_type": "execute_result"
    }
   ],
   "source": [
    "yeniDataFrame.set_index(\"Yeni Indeks\")"
   ]
  },
  {
   "cell_type": "code",
   "execution_count": 37,
   "id": "9c98c6e7",
   "metadata": {},
   "outputs": [
    {
     "data": {
      "text/html": [
       "<div>\n",
       "<style scoped>\n",
       "    .dataframe tbody tr th:only-of-type {\n",
       "        vertical-align: middle;\n",
       "    }\n",
       "\n",
       "    .dataframe tbody tr th {\n",
       "        vertical-align: top;\n",
       "    }\n",
       "\n",
       "    .dataframe thead th {\n",
       "        text-align: right;\n",
       "    }\n",
       "</style>\n",
       "<table border=\"1\" class=\"dataframe\">\n",
       "  <thead>\n",
       "    <tr style=\"text-align: right;\">\n",
       "      <th></th>\n",
       "      <th>maas</th>\n",
       "      <th>yas</th>\n",
       "      <th>calisma saati</th>\n",
       "      <th>Yeni Indeks</th>\n",
       "    </tr>\n",
       "  </thead>\n",
       "  <tbody>\n",
       "    <tr>\n",
       "      <th>ömer</th>\n",
       "      <td>-0.402311</td>\n",
       "      <td>-1.311879</td>\n",
       "      <td>-0.727174</td>\n",
       "      <td>öm</td>\n",
       "    </tr>\n",
       "    <tr>\n",
       "      <th>nimet</th>\n",
       "      <td>0.117053</td>\n",
       "      <td>-0.517345</td>\n",
       "      <td>-0.432401</td>\n",
       "      <td>nim</td>\n",
       "    </tr>\n",
       "    <tr>\n",
       "      <th>ali</th>\n",
       "      <td>0.361353</td>\n",
       "      <td>0.319932</td>\n",
       "      <td>-0.325930</td>\n",
       "      <td>al</td>\n",
       "    </tr>\n",
       "    <tr>\n",
       "      <th>asli</th>\n",
       "      <td>0.214330</td>\n",
       "      <td>-0.247283</td>\n",
       "      <td>1.104212</td>\n",
       "      <td>as</td>\n",
       "    </tr>\n",
       "  </tbody>\n",
       "</table>\n",
       "</div>"
      ],
      "text/plain": [
       "           maas       yas  calisma saati Yeni Indeks\n",
       "ömer  -0.402311 -1.311879      -0.727174          öm\n",
       "nimet  0.117053 -0.517345      -0.432401         nim\n",
       "ali    0.361353  0.319932      -0.325930          al\n",
       "asli   0.214330 -0.247283       1.104212          as"
      ]
     },
     "execution_count": 37,
     "metadata": {},
     "output_type": "execute_result"
    }
   ],
   "source": [
    "yeniDataFrame"
   ]
  },
  {
   "cell_type": "code",
   "execution_count": 39,
   "id": "9747f0fc",
   "metadata": {},
   "outputs": [],
   "source": [
    "yeniDataFrame.set_index(\"Yeni Indeks\", inplace = True)"
   ]
  },
  {
   "cell_type": "code",
   "execution_count": 40,
   "id": "f865416f",
   "metadata": {},
   "outputs": [
    {
     "data": {
      "text/html": [
       "<div>\n",
       "<style scoped>\n",
       "    .dataframe tbody tr th:only-of-type {\n",
       "        vertical-align: middle;\n",
       "    }\n",
       "\n",
       "    .dataframe tbody tr th {\n",
       "        vertical-align: top;\n",
       "    }\n",
       "\n",
       "    .dataframe thead th {\n",
       "        text-align: right;\n",
       "    }\n",
       "</style>\n",
       "<table border=\"1\" class=\"dataframe\">\n",
       "  <thead>\n",
       "    <tr style=\"text-align: right;\">\n",
       "      <th></th>\n",
       "      <th>maas</th>\n",
       "      <th>yas</th>\n",
       "      <th>calisma saati</th>\n",
       "    </tr>\n",
       "    <tr>\n",
       "      <th>Yeni Indeks</th>\n",
       "      <th></th>\n",
       "      <th></th>\n",
       "      <th></th>\n",
       "    </tr>\n",
       "  </thead>\n",
       "  <tbody>\n",
       "    <tr>\n",
       "      <th>öm</th>\n",
       "      <td>-0.402311</td>\n",
       "      <td>-1.311879</td>\n",
       "      <td>-0.727174</td>\n",
       "    </tr>\n",
       "    <tr>\n",
       "      <th>nim</th>\n",
       "      <td>0.117053</td>\n",
       "      <td>-0.517345</td>\n",
       "      <td>-0.432401</td>\n",
       "    </tr>\n",
       "    <tr>\n",
       "      <th>al</th>\n",
       "      <td>0.361353</td>\n",
       "      <td>0.319932</td>\n",
       "      <td>-0.325930</td>\n",
       "    </tr>\n",
       "    <tr>\n",
       "      <th>as</th>\n",
       "      <td>0.214330</td>\n",
       "      <td>-0.247283</td>\n",
       "      <td>1.104212</td>\n",
       "    </tr>\n",
       "  </tbody>\n",
       "</table>\n",
       "</div>"
      ],
      "text/plain": [
       "                 maas       yas  calisma saati\n",
       "Yeni Indeks                                   \n",
       "öm          -0.402311 -1.311879      -0.727174\n",
       "nim          0.117053 -0.517345      -0.432401\n",
       "al           0.361353  0.319932      -0.325930\n",
       "as           0.214330 -0.247283       1.104212"
      ]
     },
     "execution_count": 40,
     "metadata": {},
     "output_type": "execute_result"
    }
   ],
   "source": [
    "yeniDataFrame"
   ]
  },
  {
   "cell_type": "code",
   "execution_count": 41,
   "id": "e04f29cb",
   "metadata": {},
   "outputs": [
    {
     "data": {
      "text/plain": [
       "maas            -0.402311\n",
       "yas             -1.311879\n",
       "calisma saati   -0.727174\n",
       "Name: öm, dtype: float64"
      ]
     },
     "execution_count": 41,
     "metadata": {},
     "output_type": "execute_result"
    }
   ],
   "source": [
    "yeniDataFrame.loc[\"öm\"]"
   ]
  },
  {
   "cell_type": "markdown",
   "id": "45f5c634",
   "metadata": {},
   "source": [
    "# multi indeks"
   ]
  },
  {
   "cell_type": "code",
   "execution_count": 42,
   "id": "c8f1bd1e",
   "metadata": {},
   "outputs": [],
   "source": [
    "ilkIndeksler = [\"GS\",\"GS\",\"GS\",\"FB\",\"FB\",\"FB\"]"
   ]
  },
  {
   "cell_type": "code",
   "execution_count": 43,
   "id": "c4da1313",
   "metadata": {},
   "outputs": [],
   "source": [
    "icIndeksler = [\"kerem\",\"baris\",\"berkan\",\"irfan\",\"ferdi\",\"samet\"]"
   ]
  },
  {
   "cell_type": "code",
   "execution_count": 44,
   "id": "15fd9b8a",
   "metadata": {},
   "outputs": [],
   "source": [
    "birlesmisIndeks = list(zip(ilkIndeksler,icIndeksler))"
   ]
  },
  {
   "cell_type": "code",
   "execution_count": 45,
   "id": "3e77eec6",
   "metadata": {},
   "outputs": [
    {
     "data": {
      "text/plain": [
       "[('GS', 'kerem'),\n",
       " ('GS', 'baris'),\n",
       " ('GS', 'berkan'),\n",
       " ('FB', 'irfan'),\n",
       " ('FB', 'ferdi'),\n",
       " ('FB', 'samet')]"
      ]
     },
     "execution_count": 45,
     "metadata": {},
     "output_type": "execute_result"
    }
   ],
   "source": [
    "birlesmisIndeks"
   ]
  },
  {
   "cell_type": "code",
   "execution_count": 47,
   "id": "880de04e",
   "metadata": {},
   "outputs": [],
   "source": [
    "birlesmisIndeks = pd.MultiIndex.from_tuples(birlesmisIndeks)"
   ]
  },
  {
   "cell_type": "code",
   "execution_count": 49,
   "id": "19b8ef2c",
   "metadata": {},
   "outputs": [
    {
     "data": {
      "text/plain": [
       "MultiIndex([('GS',  'kerem'),\n",
       "            ('GS',  'baris'),\n",
       "            ('GS', 'berkan'),\n",
       "            ('FB',  'irfan'),\n",
       "            ('FB',  'ferdi'),\n",
       "            ('FB',  'samet')],\n",
       "           )"
      ]
     },
     "execution_count": 49,
     "metadata": {},
     "output_type": "execute_result"
    }
   ],
   "source": [
    "birlesmisIndeks"
   ]
  },
  {
   "cell_type": "code",
   "execution_count": 50,
   "id": "9fdb1a29",
   "metadata": {},
   "outputs": [],
   "source": [
    "takimListem = [[40,\"forvet\"],[50,\"forvet\"],[30,\"orta\"],[50,\"orta\"],[60,\"kanat\"],[30,\"defans\"]]"
   ]
  },
  {
   "cell_type": "code",
   "execution_count": 51,
   "id": "6337b8d6",
   "metadata": {},
   "outputs": [],
   "source": [
    "takimNumpyDizisi = np.array(takimListem)"
   ]
  },
  {
   "cell_type": "code",
   "execution_count": 52,
   "id": "eeb02586",
   "metadata": {},
   "outputs": [],
   "source": [
    "takimDataFrame = pd.DataFrame(takimNumpyDizisi, index=birlesmisIndeks, columns = [\"maaş\",\"pozisyon\"])"
   ]
  },
  {
   "cell_type": "code",
   "execution_count": 53,
   "id": "8f694d0b",
   "metadata": {},
   "outputs": [
    {
     "data": {
      "text/html": [
       "<div>\n",
       "<style scoped>\n",
       "    .dataframe tbody tr th:only-of-type {\n",
       "        vertical-align: middle;\n",
       "    }\n",
       "\n",
       "    .dataframe tbody tr th {\n",
       "        vertical-align: top;\n",
       "    }\n",
       "\n",
       "    .dataframe thead th {\n",
       "        text-align: right;\n",
       "    }\n",
       "</style>\n",
       "<table border=\"1\" class=\"dataframe\">\n",
       "  <thead>\n",
       "    <tr style=\"text-align: right;\">\n",
       "      <th></th>\n",
       "      <th></th>\n",
       "      <th>maaş</th>\n",
       "      <th>pozisyon</th>\n",
       "    </tr>\n",
       "  </thead>\n",
       "  <tbody>\n",
       "    <tr>\n",
       "      <th rowspan=\"3\" valign=\"top\">GS</th>\n",
       "      <th>kerem</th>\n",
       "      <td>40</td>\n",
       "      <td>forvet</td>\n",
       "    </tr>\n",
       "    <tr>\n",
       "      <th>baris</th>\n",
       "      <td>50</td>\n",
       "      <td>forvet</td>\n",
       "    </tr>\n",
       "    <tr>\n",
       "      <th>berkan</th>\n",
       "      <td>30</td>\n",
       "      <td>orta</td>\n",
       "    </tr>\n",
       "    <tr>\n",
       "      <th rowspan=\"3\" valign=\"top\">FB</th>\n",
       "      <th>irfan</th>\n",
       "      <td>50</td>\n",
       "      <td>orta</td>\n",
       "    </tr>\n",
       "    <tr>\n",
       "      <th>ferdi</th>\n",
       "      <td>60</td>\n",
       "      <td>kanat</td>\n",
       "    </tr>\n",
       "    <tr>\n",
       "      <th>samet</th>\n",
       "      <td>30</td>\n",
       "      <td>defans</td>\n",
       "    </tr>\n",
       "  </tbody>\n",
       "</table>\n",
       "</div>"
      ],
      "text/plain": [
       "          maaş pozisyon\n",
       "GS kerem    40   forvet\n",
       "   baris    50   forvet\n",
       "   berkan   30     orta\n",
       "FB irfan    50     orta\n",
       "   ferdi    60    kanat\n",
       "   samet    30   defans"
      ]
     },
     "execution_count": 53,
     "metadata": {},
     "output_type": "execute_result"
    }
   ],
   "source": [
    "takimDataFrame"
   ]
  },
  {
   "cell_type": "code",
   "execution_count": 54,
   "id": "e9163d13",
   "metadata": {},
   "outputs": [
    {
     "data": {
      "text/html": [
       "<div>\n",
       "<style scoped>\n",
       "    .dataframe tbody tr th:only-of-type {\n",
       "        vertical-align: middle;\n",
       "    }\n",
       "\n",
       "    .dataframe tbody tr th {\n",
       "        vertical-align: top;\n",
       "    }\n",
       "\n",
       "    .dataframe thead th {\n",
       "        text-align: right;\n",
       "    }\n",
       "</style>\n",
       "<table border=\"1\" class=\"dataframe\">\n",
       "  <thead>\n",
       "    <tr style=\"text-align: right;\">\n",
       "      <th></th>\n",
       "      <th>maaş</th>\n",
       "      <th>pozisyon</th>\n",
       "    </tr>\n",
       "  </thead>\n",
       "  <tbody>\n",
       "    <tr>\n",
       "      <th>kerem</th>\n",
       "      <td>40</td>\n",
       "      <td>forvet</td>\n",
       "    </tr>\n",
       "    <tr>\n",
       "      <th>baris</th>\n",
       "      <td>50</td>\n",
       "      <td>forvet</td>\n",
       "    </tr>\n",
       "    <tr>\n",
       "      <th>berkan</th>\n",
       "      <td>30</td>\n",
       "      <td>orta</td>\n",
       "    </tr>\n",
       "  </tbody>\n",
       "</table>\n",
       "</div>"
      ],
      "text/plain": [
       "       maaş pozisyon\n",
       "kerem    40   forvet\n",
       "baris    50   forvet\n",
       "berkan   30     orta"
      ]
     },
     "execution_count": 54,
     "metadata": {},
     "output_type": "execute_result"
    }
   ],
   "source": [
    "takimDataFrame.loc[\"GS\"]"
   ]
  },
  {
   "cell_type": "code",
   "execution_count": 55,
   "id": "7661542f",
   "metadata": {},
   "outputs": [
    {
     "data": {
      "text/html": [
       "<div>\n",
       "<style scoped>\n",
       "    .dataframe tbody tr th:only-of-type {\n",
       "        vertical-align: middle;\n",
       "    }\n",
       "\n",
       "    .dataframe tbody tr th {\n",
       "        vertical-align: top;\n",
       "    }\n",
       "\n",
       "    .dataframe thead th {\n",
       "        text-align: right;\n",
       "    }\n",
       "</style>\n",
       "<table border=\"1\" class=\"dataframe\">\n",
       "  <thead>\n",
       "    <tr style=\"text-align: right;\">\n",
       "      <th></th>\n",
       "      <th>maaş</th>\n",
       "      <th>pozisyon</th>\n",
       "    </tr>\n",
       "  </thead>\n",
       "  <tbody>\n",
       "    <tr>\n",
       "      <th>irfan</th>\n",
       "      <td>50</td>\n",
       "      <td>orta</td>\n",
       "    </tr>\n",
       "    <tr>\n",
       "      <th>ferdi</th>\n",
       "      <td>60</td>\n",
       "      <td>kanat</td>\n",
       "    </tr>\n",
       "    <tr>\n",
       "      <th>samet</th>\n",
       "      <td>30</td>\n",
       "      <td>defans</td>\n",
       "    </tr>\n",
       "  </tbody>\n",
       "</table>\n",
       "</div>"
      ],
      "text/plain": [
       "      maaş pozisyon\n",
       "irfan   50     orta\n",
       "ferdi   60    kanat\n",
       "samet   30   defans"
      ]
     },
     "execution_count": 55,
     "metadata": {},
     "output_type": "execute_result"
    }
   ],
   "source": [
    "takimDataFrame.loc[\"FB\"]"
   ]
  },
  {
   "cell_type": "code",
   "execution_count": 57,
   "id": "054f83c4",
   "metadata": {},
   "outputs": [
    {
     "data": {
      "text/plain": [
       "maaş           60\n",
       "pozisyon    kanat\n",
       "Name: ferdi, dtype: object"
      ]
     },
     "execution_count": 57,
     "metadata": {},
     "output_type": "execute_result"
    }
   ],
   "source": [
    "takimDataFrame.loc[\"FB\"].loc[\"ferdi\"]"
   ]
  },
  {
   "cell_type": "code",
   "execution_count": 59,
   "id": "59996a82",
   "metadata": {},
   "outputs": [],
   "source": [
    "takimDataFrame.index.names = [\"Takım Adı\",\"isim\"]"
   ]
  },
  {
   "cell_type": "code",
   "execution_count": 60,
   "id": "1819e103",
   "metadata": {},
   "outputs": [
    {
     "data": {
      "text/html": [
       "<div>\n",
       "<style scoped>\n",
       "    .dataframe tbody tr th:only-of-type {\n",
       "        vertical-align: middle;\n",
       "    }\n",
       "\n",
       "    .dataframe tbody tr th {\n",
       "        vertical-align: top;\n",
       "    }\n",
       "\n",
       "    .dataframe thead th {\n",
       "        text-align: right;\n",
       "    }\n",
       "</style>\n",
       "<table border=\"1\" class=\"dataframe\">\n",
       "  <thead>\n",
       "    <tr style=\"text-align: right;\">\n",
       "      <th></th>\n",
       "      <th></th>\n",
       "      <th>maaş</th>\n",
       "      <th>pozisyon</th>\n",
       "    </tr>\n",
       "    <tr>\n",
       "      <th>Takım Adı</th>\n",
       "      <th>isim</th>\n",
       "      <th></th>\n",
       "      <th></th>\n",
       "    </tr>\n",
       "  </thead>\n",
       "  <tbody>\n",
       "    <tr>\n",
       "      <th rowspan=\"3\" valign=\"top\">GS</th>\n",
       "      <th>kerem</th>\n",
       "      <td>40</td>\n",
       "      <td>forvet</td>\n",
       "    </tr>\n",
       "    <tr>\n",
       "      <th>baris</th>\n",
       "      <td>50</td>\n",
       "      <td>forvet</td>\n",
       "    </tr>\n",
       "    <tr>\n",
       "      <th>berkan</th>\n",
       "      <td>30</td>\n",
       "      <td>orta</td>\n",
       "    </tr>\n",
       "    <tr>\n",
       "      <th rowspan=\"3\" valign=\"top\">FB</th>\n",
       "      <th>irfan</th>\n",
       "      <td>50</td>\n",
       "      <td>orta</td>\n",
       "    </tr>\n",
       "    <tr>\n",
       "      <th>ferdi</th>\n",
       "      <td>60</td>\n",
       "      <td>kanat</td>\n",
       "    </tr>\n",
       "    <tr>\n",
       "      <th>samet</th>\n",
       "      <td>30</td>\n",
       "      <td>defans</td>\n",
       "    </tr>\n",
       "  </tbody>\n",
       "</table>\n",
       "</div>"
      ],
      "text/plain": [
       "                 maaş pozisyon\n",
       "Takım Adı isim                \n",
       "GS        kerem    40   forvet\n",
       "          baris    50   forvet\n",
       "          berkan   30     orta\n",
       "FB        irfan    50     orta\n",
       "          ferdi    60    kanat\n",
       "          samet    30   defans"
      ]
     },
     "execution_count": 60,
     "metadata": {},
     "output_type": "execute_result"
    }
   ],
   "source": [
    "takimDataFrame"
   ]
  },
  {
   "cell_type": "code",
   "execution_count": null,
   "id": "bc179138",
   "metadata": {},
   "outputs": [],
   "source": []
  }
 ],
 "metadata": {
  "kernelspec": {
   "display_name": "Python 3 (ipykernel)",
   "language": "python",
   "name": "python3"
  },
  "language_info": {
   "codemirror_mode": {
    "name": "ipython",
    "version": 3
   },
   "file_extension": ".py",
   "mimetype": "text/x-python",
   "name": "python",
   "nbconvert_exporter": "python",
   "pygments_lexer": "ipython3",
   "version": "3.11.5"
  }
 },
 "nbformat": 4,
 "nbformat_minor": 5
}
