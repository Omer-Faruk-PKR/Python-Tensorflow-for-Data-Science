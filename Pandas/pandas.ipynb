{
 "cells": [
  {
   "cell_type": "code",
   "execution_count": 1,
   "id": "309d2386",
   "metadata": {},
   "outputs": [],
   "source": [
    "import numpy as np\n",
    "import pandas as pd"
   ]
  },
  {
   "cell_type": "code",
   "execution_count": 2,
   "id": "bc20010c",
   "metadata": {},
   "outputs": [],
   "source": [
    "# seriler"
   ]
  },
  {
   "cell_type": "code",
   "execution_count": 3,
   "id": "0380a572",
   "metadata": {},
   "outputs": [],
   "source": [
    "benimSozlugum = {\"Ömer\" : 30, \"ahmet\" : 10, \"zeynep\" : 20}"
   ]
  },
  {
   "cell_type": "code",
   "execution_count": 4,
   "id": "0113de75",
   "metadata": {},
   "outputs": [
    {
     "data": {
      "text/plain": [
       "Ömer      30\n",
       "ahmet     10\n",
       "zeynep    20\n",
       "dtype: int64"
      ]
     },
     "execution_count": 4,
     "metadata": {},
     "output_type": "execute_result"
    }
   ],
   "source": [
    "pd.Series(benimSozlugum)"
   ]
  },
  {
   "cell_type": "code",
   "execution_count": 5,
   "id": "22c0506a",
   "metadata": {},
   "outputs": [],
   "source": [
    "benimYaslar = [30,10,20]\n",
    "benimIsimler = [\"Ömer\",\"ahmet\",\"zeynep\"]"
   ]
  },
  {
   "cell_type": "code",
   "execution_count": 6,
   "id": "2f03727c",
   "metadata": {},
   "outputs": [
    {
     "data": {
      "text/plain": [
       "Ömer      30\n",
       "ahmet     10\n",
       "zeynep    20\n",
       "dtype: int64"
      ]
     },
     "execution_count": 6,
     "metadata": {},
     "output_type": "execute_result"
    }
   ],
   "source": [
    "pd.Series(benimYaslar,benimIsimler)"
   ]
  },
  {
   "cell_type": "code",
   "execution_count": 7,
   "id": "4386cfb0",
   "metadata": {},
   "outputs": [
    {
     "data": {
      "text/plain": [
       "Ömer      30\n",
       "ahmet     10\n",
       "zeynep    20\n",
       "dtype: int64"
      ]
     },
     "execution_count": 7,
     "metadata": {},
     "output_type": "execute_result"
    }
   ],
   "source": [
    "pd.Series(data=benimYaslar,index=benimIsimler)"
   ]
  },
  {
   "cell_type": "code",
   "execution_count": 8,
   "id": "87367ad1",
   "metadata": {},
   "outputs": [],
   "source": [
    "numpyDizisi = np.array([50,40,30])"
   ]
  },
  {
   "cell_type": "code",
   "execution_count": 9,
   "id": "4608376b",
   "metadata": {},
   "outputs": [
    {
     "data": {
      "text/plain": [
       "array([50, 40, 30])"
      ]
     },
     "execution_count": 9,
     "metadata": {},
     "output_type": "execute_result"
    }
   ],
   "source": [
    "numpyDizisi"
   ]
  },
  {
   "cell_type": "code",
   "execution_count": 10,
   "id": "52752d92",
   "metadata": {},
   "outputs": [
    {
     "data": {
      "text/plain": [
       "Ömer      50\n",
       "ahmet     40\n",
       "zeynep    30\n",
       "dtype: int32"
      ]
     },
     "execution_count": 10,
     "metadata": {},
     "output_type": "execute_result"
    }
   ],
   "source": [
    "pd.Series(numpyDizisi,benimIsimler)"
   ]
  },
  {
   "cell_type": "code",
   "execution_count": 11,
   "id": "b2e143f9",
   "metadata": {},
   "outputs": [
    {
     "data": {
      "text/plain": [
       "0     ömer\n",
       "1    faruk\n",
       "2    hasan\n",
       "dtype: object"
      ]
     },
     "execution_count": 11,
     "metadata": {},
     "output_type": "execute_result"
    }
   ],
   "source": [
    "pd.Series([\"ömer\",\"faruk\",\"hasan\"])"
   ]
  },
  {
   "cell_type": "code",
   "execution_count": 12,
   "id": "867d0d02",
   "metadata": {},
   "outputs": [
    {
     "data": {
      "text/plain": [
       "1     ömer\n",
       "2    faruk\n",
       "3    hasan\n",
       "dtype: object"
      ]
     },
     "execution_count": 12,
     "metadata": {},
     "output_type": "execute_result"
    }
   ],
   "source": [
    "pd.Series([\"ömer\",\"faruk\",\"hasan\"],[1,2,3])"
   ]
  },
  {
   "cell_type": "code",
   "execution_count": 13,
   "id": "1a481ae0",
   "metadata": {},
   "outputs": [],
   "source": [
    "yarismaSonucu = pd.Series( [10,5,1], [\"ömer\",\"faruk\",\"hasan\"] )"
   ]
  },
  {
   "cell_type": "code",
   "execution_count": 14,
   "id": "f624157c",
   "metadata": {},
   "outputs": [
    {
     "data": {
      "text/plain": [
       "ömer     10\n",
       "faruk     5\n",
       "hasan     1\n",
       "dtype: int64"
      ]
     },
     "execution_count": 14,
     "metadata": {},
     "output_type": "execute_result"
    }
   ],
   "source": [
    "yarismaSonucu"
   ]
  },
  {
   "cell_type": "code",
   "execution_count": 16,
   "id": "a853b9bc",
   "metadata": {},
   "outputs": [],
   "source": [
    "yarismaSonucu2 = pd.Series( [20,10,7], [\"ömer\",\"faruk\",\"hasan\"] )"
   ]
  },
  {
   "cell_type": "code",
   "execution_count": 17,
   "id": "6c2f20cd",
   "metadata": {},
   "outputs": [
    {
     "data": {
      "text/plain": [
       "ömer     20\n",
       "faruk    10\n",
       "hasan     7\n",
       "dtype: int64"
      ]
     },
     "execution_count": 17,
     "metadata": {},
     "output_type": "execute_result"
    }
   ],
   "source": [
    "yarismaSonucu2"
   ]
  },
  {
   "cell_type": "code",
   "execution_count": 18,
   "id": "e282a5f5",
   "metadata": {},
   "outputs": [
    {
     "data": {
      "text/plain": [
       "10"
      ]
     },
     "execution_count": 18,
     "metadata": {},
     "output_type": "execute_result"
    }
   ],
   "source": [
    "yarismaSonucu2[\"faruk\"]"
   ]
  },
  {
   "cell_type": "code",
   "execution_count": 19,
   "id": "83ae5f0f",
   "metadata": {},
   "outputs": [],
   "source": [
    "sonSonuc = yarismaSonucu + yarismaSonucu2"
   ]
  },
  {
   "cell_type": "code",
   "execution_count": 20,
   "id": "cb3e0eb8",
   "metadata": {},
   "outputs": [
    {
     "data": {
      "text/plain": [
       "ömer     30\n",
       "faruk    15\n",
       "hasan     8\n",
       "dtype: int64"
      ]
     },
     "execution_count": 20,
     "metadata": {},
     "output_type": "execute_result"
    }
   ],
   "source": [
    "sonSonuc"
   ]
  },
  {
   "cell_type": "code",
   "execution_count": 21,
   "id": "65196987",
   "metadata": {},
   "outputs": [],
   "source": [
    "farkliSeries = pd.Series( [20,30,40,50],[\"a\",\"b\",\"c\",\"d\"] )"
   ]
  },
  {
   "cell_type": "code",
   "execution_count": 22,
   "id": "9cda90b9",
   "metadata": {},
   "outputs": [],
   "source": [
    "farkliSeries2 = pd.Series( [10,5,3,1],[\"a\",\"c\",\"f\",\"g\"] )"
   ]
  },
  {
   "cell_type": "code",
   "execution_count": 23,
   "id": "fcc83069",
   "metadata": {},
   "outputs": [
    {
     "data": {
      "text/plain": [
       "a    20\n",
       "b    30\n",
       "c    40\n",
       "d    50\n",
       "dtype: int64"
      ]
     },
     "execution_count": 23,
     "metadata": {},
     "output_type": "execute_result"
    }
   ],
   "source": [
    "farkliSeries"
   ]
  },
  {
   "cell_type": "code",
   "execution_count": 24,
   "id": "fbd59b58",
   "metadata": {},
   "outputs": [
    {
     "data": {
      "text/plain": [
       "a    10\n",
       "c     5\n",
       "f     3\n",
       "g     1\n",
       "dtype: int64"
      ]
     },
     "execution_count": 24,
     "metadata": {},
     "output_type": "execute_result"
    }
   ],
   "source": [
    "farkliSeries2"
   ]
  },
  {
   "cell_type": "code",
   "execution_count": 25,
   "id": "70712fde",
   "metadata": {},
   "outputs": [
    {
     "data": {
      "text/plain": [
       "a    30.0\n",
       "b     NaN\n",
       "c    45.0\n",
       "d     NaN\n",
       "f     NaN\n",
       "g     NaN\n",
       "dtype: float64"
      ]
     },
     "execution_count": 25,
     "metadata": {},
     "output_type": "execute_result"
    }
   ],
   "source": [
    "farkliSeries + farkliSeries2"
   ]
  },
  {
   "cell_type": "code",
   "execution_count": null,
   "id": "05421b51",
   "metadata": {},
   "outputs": [],
   "source": []
  }
 ],
 "metadata": {
  "kernelspec": {
   "display_name": "Python 3 (ipykernel)",
   "language": "python",
   "name": "python3"
  },
  "language_info": {
   "codemirror_mode": {
    "name": "ipython",
    "version": 3
   },
   "file_extension": ".py",
   "mimetype": "text/x-python",
   "name": "python",
   "nbconvert_exporter": "python",
   "pygments_lexer": "ipython3",
   "version": "3.11.5"
  }
 },
 "nbformat": 4,
 "nbformat_minor": 5
}
