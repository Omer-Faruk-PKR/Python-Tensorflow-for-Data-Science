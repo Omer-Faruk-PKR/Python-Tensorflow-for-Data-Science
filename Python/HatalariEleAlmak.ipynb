{
 "cells": [
  {
   "cell_type": "code",
   "execution_count": 1,
   "id": "3cd92d93",
   "metadata": {},
   "outputs": [
    {
     "name": "stdout",
     "output_type": "stream",
     "text": [
      "lütfen bir sayı giriniz: qwe\n",
      "!!! lütfen sadece bir sayı giriniz !!!\n",
      "Ben her koşulda çağırılan bir yapıyım..\n",
      "\n",
      "lütfen bir sayı giriniz: 1\n",
      "Teşekkürler :)\n",
      "Ben her koşulda çağırılan bir yapıyım..\n",
      "\n"
     ]
    }
   ],
   "source": [
    "while 1:\n",
    "    try:\n",
    "        sayi = int(input(\"lütfen bir sayı giriniz: \"))\n",
    "    \n",
    "    except:\n",
    "        print(\"!!! lütfen sadece bir sayı giriniz !!!\")\n",
    "        \n",
    "    else:\n",
    "        print(\"Teşekkürler :)\")\n",
    "        break\n",
    "        \n",
    "    finally:\n",
    "        print(\"Ben her koşulda çağırılan bir yapıyım..\\n\")"
   ]
  },
  {
   "cell_type": "code",
   "execution_count": null,
   "id": "d18cba35",
   "metadata": {},
   "outputs": [],
   "source": []
  },
  {
   "cell_type": "code",
   "execution_count": null,
   "id": "b4a9bba6",
   "metadata": {},
   "outputs": [],
   "source": []
  }
 ],
 "metadata": {
  "kernelspec": {
   "display_name": "Python 3 (ipykernel)",
   "language": "python",
   "name": "python3"
  },
  "language_info": {
   "codemirror_mode": {
    "name": "ipython",
    "version": 3
   },
   "file_extension": ".py",
   "mimetype": "text/x-python",
   "name": "python",
   "nbconvert_exporter": "python",
   "pygments_lexer": "ipython3",
   "version": "3.11.5"
  }
 },
 "nbformat": 4,
 "nbformat_minor": 5
}
