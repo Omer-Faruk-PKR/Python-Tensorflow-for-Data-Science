{
 "cells": [
  {
   "cell_type": "code",
   "execution_count": 9,
   "id": "f024dd63",
   "metadata": {},
   "outputs": [
    {
     "name": "stdout",
     "output_type": "stream",
     "text": [
      "super kahraman sınıfı\n"
     ]
    }
   ],
   "source": [
    "class Superkahraman():\n",
    "    \n",
    "    gizliOzellik = \"ucma\"\n",
    "    \n",
    "    def __init__(self,isim,yas,meslek):\n",
    "        print(\"super kahraman sınıfı\")\n",
    "        self.isim = isim\n",
    "        self.yas = yas\n",
    "        self.meslek = meslek\n",
    "        \n",
    "batman = Superkahraman(\"batman\",29,\"polis\")"
   ]
  },
  {
   "cell_type": "code",
   "execution_count": 10,
   "id": "50f49c2b",
   "metadata": {},
   "outputs": [
    {
     "data": {
      "text/plain": [
       "'batman'"
      ]
     },
     "execution_count": 10,
     "metadata": {},
     "output_type": "execute_result"
    }
   ],
   "source": [
    "batman.isim"
   ]
  },
  {
   "cell_type": "code",
   "execution_count": 11,
   "id": "9e8ebef1",
   "metadata": {},
   "outputs": [
    {
     "data": {
      "text/plain": [
       "29"
      ]
     },
     "execution_count": 11,
     "metadata": {},
     "output_type": "execute_result"
    }
   ],
   "source": [
    "batman.yas"
   ]
  },
  {
   "cell_type": "code",
   "execution_count": 12,
   "id": "7acfae00",
   "metadata": {},
   "outputs": [],
   "source": [
    "batman.isim = \"batmann\""
   ]
  },
  {
   "cell_type": "code",
   "execution_count": 13,
   "id": "b4ea19b4",
   "metadata": {},
   "outputs": [
    {
     "data": {
      "text/plain": [
       "'batmann'"
      ]
     },
     "execution_count": 13,
     "metadata": {},
     "output_type": "execute_result"
    }
   ],
   "source": [
    "batman.isim"
   ]
  },
  {
   "cell_type": "code",
   "execution_count": 14,
   "id": "65e62921",
   "metadata": {},
   "outputs": [
    {
     "data": {
      "text/plain": [
       "'ucma'"
      ]
     },
     "execution_count": 14,
     "metadata": {},
     "output_type": "execute_result"
    }
   ],
   "source": [
    "batman.gizliOzellik"
   ]
  },
  {
   "cell_type": "code",
   "execution_count": 16,
   "id": "0b23a596",
   "metadata": {},
   "outputs": [],
   "source": [
    "class Superkahraman():\n",
    "    \n",
    "    gizliOzellik = \"ucma\"\n",
    "    \n",
    "    def __init__(self,isim,yas,meslek):\n",
    "        print(\"super kahraman sınıfı\")\n",
    "        self.isim = isim\n",
    "        self.yas = yas\n",
    "        self.meslek = meslek\n",
    "    \n",
    "    def ornekMethod(self):\n",
    "        print(f\"Ben bir süper kahramanım ve mesleğim {self.meslek}\")\n",
    "    "
   ]
  },
  {
   "cell_type": "code",
   "execution_count": 17,
   "id": "0efa3313",
   "metadata": {},
   "outputs": [
    {
     "name": "stdout",
     "output_type": "stream",
     "text": [
      "super kahraman sınıfı\n"
     ]
    }
   ],
   "source": [
    "batman = Superkahraman(\"batman\",29,\"polis\")"
   ]
  },
  {
   "cell_type": "code",
   "execution_count": 18,
   "id": "1f14735a",
   "metadata": {},
   "outputs": [
    {
     "data": {
      "text/plain": [
       "<bound method Superkahraman.ornekMethod of <__main__.Superkahraman object at 0x00000261377D5490>>"
      ]
     },
     "execution_count": 18,
     "metadata": {},
     "output_type": "execute_result"
    }
   ],
   "source": [
    "batman.ornekMethod"
   ]
  },
  {
   "cell_type": "code",
   "execution_count": 19,
   "id": "5b76e932",
   "metadata": {},
   "outputs": [
    {
     "name": "stdout",
     "output_type": "stream",
     "text": [
      "Ben bir süper kahramanım ve mesleğim polis\n"
     ]
    }
   ],
   "source": [
    "batman.ornekMethod()"
   ]
  },
  {
   "cell_type": "code",
   "execution_count": 25,
   "id": "305e3f09",
   "metadata": {},
   "outputs": [],
   "source": [
    "class Kopek():\n",
    "    \n",
    "    yasCarpani = 7\n",
    "    \n",
    "    def __init__(self,yas):\n",
    "        self.yas = yas\n",
    "        \n",
    "    def insanYasinaCevir(self):\n",
    "        return self.yas * self.yasCarpani"
   ]
  },
  {
   "cell_type": "code",
   "execution_count": 26,
   "id": "5711fa52",
   "metadata": {},
   "outputs": [],
   "source": [
    "kopek1 = Kopek(19)"
   ]
  },
  {
   "cell_type": "code",
   "execution_count": 27,
   "id": "e4693abd",
   "metadata": {},
   "outputs": [
    {
     "data": {
      "text/plain": [
       "19"
      ]
     },
     "execution_count": 27,
     "metadata": {},
     "output_type": "execute_result"
    }
   ],
   "source": [
    "kopek1.yas"
   ]
  },
  {
   "cell_type": "code",
   "execution_count": 28,
   "id": "3748a176",
   "metadata": {},
   "outputs": [
    {
     "data": {
      "text/plain": [
       "<bound method Kopek.insanYasinaCevir of <__main__.Kopek object at 0x0000026138C8E450>>"
      ]
     },
     "execution_count": 28,
     "metadata": {},
     "output_type": "execute_result"
    }
   ],
   "source": [
    "kopek1.insanYasinaCevir"
   ]
  },
  {
   "cell_type": "code",
   "execution_count": 30,
   "id": "7ce71174",
   "metadata": {},
   "outputs": [
    {
     "data": {
      "text/plain": [
       "133"
      ]
     },
     "execution_count": 30,
     "metadata": {},
     "output_type": "execute_result"
    }
   ],
   "source": [
    "kopek1.insanYasinaCevir()"
   ]
  },
  {
   "cell_type": "code",
   "execution_count": 33,
   "id": "f3334e8c",
   "metadata": {},
   "outputs": [],
   "source": [
    "class Kopek():\n",
    "    \n",
    "    yasCarpani = 7\n",
    "    \n",
    "    def __init__(self,yas):\n",
    "        self.yas = yas\n",
    "        \n",
    "    def insanYasinaCevir(self):\n",
    "        return self.yas * Kopek.yasCarpani"
   ]
  },
  {
   "cell_type": "code",
   "execution_count": 34,
   "id": "781eee4a",
   "metadata": {},
   "outputs": [
    {
     "data": {
      "text/plain": [
       "133"
      ]
     },
     "execution_count": 34,
     "metadata": {},
     "output_type": "execute_result"
    }
   ],
   "source": [
    "kopek1 = Kopek(19)\n",
    "kopek1.insanYasinaCevir()"
   ]
  },
  {
   "cell_type": "code",
   "execution_count": null,
   "id": "77a9526c",
   "metadata": {},
   "outputs": [],
   "source": []
  }
 ],
 "metadata": {
  "kernelspec": {
   "display_name": "Python 3 (ipykernel)",
   "language": "python",
   "name": "python3"
  },
  "language_info": {
   "codemirror_mode": {
    "name": "ipython",
    "version": 3
   },
   "file_extension": ".py",
   "mimetype": "text/x-python",
   "name": "python",
   "nbconvert_exporter": "python",
   "pygments_lexer": "ipython3",
   "version": "3.11.5"
  }
 },
 "nbformat": 4,
 "nbformat_minor": 5
}
