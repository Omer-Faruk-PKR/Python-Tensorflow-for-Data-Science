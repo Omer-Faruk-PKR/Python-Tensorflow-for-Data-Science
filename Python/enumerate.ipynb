{
 "cells": [
  {
   "cell_type": "code",
   "execution_count": 5,
   "id": "e293a9ed",
   "metadata": {},
   "outputs": [
    {
     "name": "stdout",
     "output_type": "stream",
     "text": [
      "index: 0 - sayi: 50\n",
      "index: 1 - sayi: 52\n",
      "index: 2 - sayi: 54\n",
      "index: 3 - sayi: 56\n",
      "index: 4 - sayi: 58\n"
     ]
    }
   ],
   "source": [
    "index = 0\n",
    "for sayi in range(50,60,2):\n",
    "    print(f\"index: {index} - sayi: {sayi}\")\n",
    "    index += 1"
   ]
  },
  {
   "cell_type": "code",
   "execution_count": 11,
   "id": "d2b389a2",
   "metadata": {},
   "outputs": [
    {
     "name": "stdout",
     "output_type": "stream",
     "text": [
      "(0, 50)\n",
      "(1, 52)\n",
      "(2, 54)\n",
      "(3, 56)\n",
      "(4, 58)\n"
     ]
    }
   ],
   "source": [
    "for index in enumerate(range(50,60,2)):\n",
    "    print(index)"
   ]
  },
  {
   "cell_type": "code",
   "execution_count": 14,
   "id": "72105297",
   "metadata": {
    "scrolled": true
   },
   "outputs": [
    {
     "name": "stdout",
     "output_type": "stream",
     "text": [
      "<class 'tuple'>\n",
      "<class 'tuple'>\n",
      "<class 'tuple'>\n",
      "<class 'tuple'>\n",
      "<class 'tuple'>\n"
     ]
    }
   ],
   "source": [
    "for index in enumerate(range(50,60,2)):\n",
    "    print(type(index))"
   ]
  },
  {
   "cell_type": "code",
   "execution_count": 13,
   "id": "70ce4df4",
   "metadata": {},
   "outputs": [
    {
     "name": "stdout",
     "output_type": "stream",
     "text": [
      "0 \t 50\n",
      "1 \t 52\n",
      "2 \t 54\n",
      "3 \t 56\n",
      "4 \t 58\n"
     ]
    }
   ],
   "source": [
    "for (index,sayi) in enumerate(range(50,60,2)):\n",
    "    print(index,\"\\t\",sayi)"
   ]
  },
  {
   "cell_type": "code",
   "execution_count": null,
   "id": "5846bfe4",
   "metadata": {},
   "outputs": [],
   "source": []
  }
 ],
 "metadata": {
  "kernelspec": {
   "display_name": "Python 3 (ipykernel)",
   "language": "python",
   "name": "python3"
  },
  "language_info": {
   "codemirror_mode": {
    "name": "ipython",
    "version": 3
   },
   "file_extension": ".py",
   "mimetype": "text/x-python",
   "name": "python",
   "nbconvert_exporter": "python",
   "pygments_lexer": "ipython3",
   "version": "3.11.5"
  }
 },
 "nbformat": 4,
 "nbformat_minor": 5
}
