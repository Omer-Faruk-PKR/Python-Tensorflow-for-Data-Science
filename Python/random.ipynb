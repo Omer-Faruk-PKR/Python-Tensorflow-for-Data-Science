{
 "cells": [
  {
   "cell_type": "code",
   "execution_count": 1,
   "id": "3e43968f",
   "metadata": {},
   "outputs": [],
   "source": [
    "from random import randint"
   ]
  },
  {
   "cell_type": "code",
   "execution_count": 2,
   "id": "9f0fdd78",
   "metadata": {},
   "outputs": [
    {
     "data": {
      "text/plain": [
       "39"
      ]
     },
     "execution_count": 2,
     "metadata": {},
     "output_type": "execute_result"
    }
   ],
   "source": [
    "randint(10,50)"
   ]
  },
  {
   "cell_type": "code",
   "execution_count": 3,
   "id": "5eb70f8a",
   "metadata": {},
   "outputs": [
    {
     "data": {
      "text/plain": [
       "20"
      ]
     },
     "execution_count": 3,
     "metadata": {},
     "output_type": "execute_result"
    }
   ],
   "source": [
    "randint(10,50)"
   ]
  },
  {
   "cell_type": "code",
   "execution_count": 4,
   "id": "baff5a91",
   "metadata": {},
   "outputs": [],
   "source": [
    "listem = list(range(0,12))"
   ]
  },
  {
   "cell_type": "code",
   "execution_count": 5,
   "id": "348da286",
   "metadata": {},
   "outputs": [
    {
     "data": {
      "text/plain": [
       "[0, 1, 2, 3, 4, 5, 6, 7, 8, 9, 10, 11]"
      ]
     },
     "execution_count": 5,
     "metadata": {},
     "output_type": "execute_result"
    }
   ],
   "source": [
    "listem"
   ]
  },
  {
   "cell_type": "code",
   "execution_count": 13,
   "id": "bb3e1d76",
   "metadata": {},
   "outputs": [
    {
     "data": {
      "text/plain": [
       "11"
      ]
     },
     "execution_count": 13,
     "metadata": {},
     "output_type": "execute_result"
    }
   ],
   "source": [
    "listem[11]"
   ]
  },
  {
   "cell_type": "code",
   "execution_count": 14,
   "id": "aeeee3a0",
   "metadata": {},
   "outputs": [
    {
     "data": {
      "text/plain": [
       "0"
      ]
     },
     "execution_count": 14,
     "metadata": {},
     "output_type": "execute_result"
    }
   ],
   "source": [
    "listem[randint(0,11)]"
   ]
  },
  {
   "cell_type": "code",
   "execution_count": 15,
   "id": "fe423ab8",
   "metadata": {},
   "outputs": [],
   "source": [
    "from random import shuffle"
   ]
  },
  {
   "cell_type": "code",
   "execution_count": 16,
   "id": "7c52133a",
   "metadata": {},
   "outputs": [],
   "source": [
    "shuffle(listem)"
   ]
  },
  {
   "cell_type": "code",
   "execution_count": 17,
   "id": "4c33c0e7",
   "metadata": {},
   "outputs": [
    {
     "data": {
      "text/plain": [
       "[11, 8, 1, 6, 5, 3, 0, 4, 9, 7, 10, 2]"
      ]
     },
     "execution_count": 17,
     "metadata": {},
     "output_type": "execute_result"
    }
   ],
   "source": [
    "listem"
   ]
  },
  {
   "cell_type": "code",
   "execution_count": null,
   "id": "d6314f9a",
   "metadata": {},
   "outputs": [],
   "source": []
  }
 ],
 "metadata": {
  "kernelspec": {
   "display_name": "Python 3 (ipykernel)",
   "language": "python",
   "name": "python3"
  },
  "language_info": {
   "codemirror_mode": {
    "name": "ipython",
    "version": 3
   },
   "file_extension": ".py",
   "mimetype": "text/x-python",
   "name": "python",
   "nbconvert_exporter": "python",
   "pygments_lexer": "ipython3",
   "version": "3.11.5"
  }
 },
 "nbformat": 4,
 "nbformat_minor": 5
}
