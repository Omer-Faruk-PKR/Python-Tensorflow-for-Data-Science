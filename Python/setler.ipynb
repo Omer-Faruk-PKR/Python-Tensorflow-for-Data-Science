{
 "cells": [
  {
   "cell_type": "code",
   "execution_count": 1,
   "id": "141cadf8",
   "metadata": {},
   "outputs": [],
   "source": [
    "benimlistem = [1,2,3,1,2,3]"
   ]
  },
  {
   "cell_type": "code",
   "execution_count": 2,
   "id": "e7d1556e",
   "metadata": {},
   "outputs": [
    {
     "data": {
      "text/plain": [
       "1"
      ]
     },
     "execution_count": 2,
     "metadata": {},
     "output_type": "execute_result"
    }
   ],
   "source": [
    "benimlistem[3]"
   ]
  },
  {
   "cell_type": "code",
   "execution_count": 5,
   "id": "fbe55bd1",
   "metadata": {},
   "outputs": [],
   "source": [
    "benimlistesetim = set(benimlistem)\n",
    "#listeyi set e çevirdik, set i küme gibi düşün. aynı değerleri tekrarlı tutmaz. benzersiz olur. Mesela:"
   ]
  },
  {
   "cell_type": "code",
   "execution_count": 6,
   "id": "6be7b69f",
   "metadata": {},
   "outputs": [
    {
     "data": {
      "text/plain": [
       "set"
      ]
     },
     "execution_count": 6,
     "metadata": {},
     "output_type": "execute_result"
    }
   ],
   "source": [
    "type(benimlistesetim)"
   ]
  },
  {
   "cell_type": "code",
   "execution_count": 7,
   "id": "4e81b4d4",
   "metadata": {},
   "outputs": [
    {
     "data": {
      "text/plain": [
       "{1, 2, 3}"
      ]
     },
     "execution_count": 7,
     "metadata": {},
     "output_type": "execute_result"
    }
   ],
   "source": [
    "benimlistesetim"
   ]
  },
  {
   "cell_type": "code",
   "execution_count": 8,
   "id": "9cc6eb48",
   "metadata": {},
   "outputs": [],
   "source": [
    "benimSet = {\"a\",\"b\",\"c\"}"
   ]
  },
  {
   "cell_type": "code",
   "execution_count": 9,
   "id": "d8548d48",
   "metadata": {},
   "outputs": [
    {
     "data": {
      "text/plain": [
       "set"
      ]
     },
     "execution_count": 9,
     "metadata": {},
     "output_type": "execute_result"
    }
   ],
   "source": [
    "type(benimSet)"
   ]
  },
  {
   "cell_type": "code",
   "execution_count": 10,
   "id": "11b30614",
   "metadata": {},
   "outputs": [],
   "source": [
    "bosSet = {}"
   ]
  },
  {
   "cell_type": "code",
   "execution_count": 13,
   "id": "6ff12fdf",
   "metadata": {},
   "outputs": [
    {
     "data": {
      "text/plain": [
       "dict"
      ]
     },
     "execution_count": 13,
     "metadata": {},
     "output_type": "execute_result"
    }
   ],
   "source": [
    "type(bosSet)\n",
    "#sözlük olarak algılar"
   ]
  },
  {
   "cell_type": "code",
   "execution_count": 14,
   "id": "12ad3fd0",
   "metadata": {},
   "outputs": [],
   "source": [
    "benimbosSetim = set()\n",
    "#böyle tanımlarız"
   ]
  },
  {
   "cell_type": "code",
   "execution_count": 15,
   "id": "6f47425a",
   "metadata": {},
   "outputs": [
    {
     "data": {
      "text/plain": [
       "set()"
      ]
     },
     "execution_count": 15,
     "metadata": {},
     "output_type": "execute_result"
    }
   ],
   "source": [
    "benimbosSetim"
   ]
  },
  {
   "cell_type": "code",
   "execution_count": 16,
   "id": "01d93ef7",
   "metadata": {},
   "outputs": [],
   "source": [
    "benimbosSetim.add(10)\n",
    "benimbosSetim.add(10)\n",
    "benimbosSetim.add(10)\n",
    "benimbosSetim.add(30)"
   ]
  },
  {
   "cell_type": "code",
   "execution_count": 17,
   "id": "17c952ab",
   "metadata": {},
   "outputs": [
    {
     "data": {
      "text/plain": [
       "{10, 30}"
      ]
     },
     "execution_count": 17,
     "metadata": {},
     "output_type": "execute_result"
    }
   ],
   "source": [
    "benimbosSetim"
   ]
  },
  {
   "cell_type": "code",
   "execution_count": null,
   "id": "41aeb8cf",
   "metadata": {},
   "outputs": [],
   "source": []
  }
 ],
 "metadata": {
  "kernelspec": {
   "display_name": "Python 3 (ipykernel)",
   "language": "python",
   "name": "python3"
  },
  "language_info": {
   "codemirror_mode": {
    "name": "ipython",
    "version": 3
   },
   "file_extension": ".py",
   "mimetype": "text/x-python",
   "name": "python",
   "nbconvert_exporter": "python",
   "pygments_lexer": "ipython3",
   "version": "3.11.5"
  }
 },
 "nbformat": 4,
 "nbformat_minor": 5
}
