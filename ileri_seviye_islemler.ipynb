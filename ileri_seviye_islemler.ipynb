{
 "cells": [
  {
   "cell_type": "code",
   "execution_count": 8,
   "id": "752250bb",
   "metadata": {},
   "outputs": [],
   "source": [
    "yemekler = [\"elma\",\"armut\",\"muz\"]\n",
    "kalori = [100,200,300]\n",
    "gun = [\"pazartesi\",\"sali\",\"carsamba\"]"
   ]
  },
  {
   "cell_type": "code",
   "execution_count": 9,
   "id": "b1a0526a",
   "metadata": {},
   "outputs": [],
   "source": [
    "zipli = zip(yemekler,kalori,gun)"
   ]
  },
  {
   "cell_type": "code",
   "execution_count": 10,
   "id": "bd74ddb2",
   "metadata": {},
   "outputs": [
    {
     "name": "stdout",
     "output_type": "stream",
     "text": [
      "<zip object at 0x00000262BEE4BCC0>\n"
     ]
    }
   ],
   "source": [
    "print(zipli)"
   ]
  },
  {
   "cell_type": "code",
   "execution_count": 11,
   "id": "66df37e6",
   "metadata": {},
   "outputs": [
    {
     "name": "stdout",
     "output_type": "stream",
     "text": [
      "[('elma', 100, 'pazartesi'), ('armut', 200, 'sali'), ('muz', 300, 'carsamba')]\n"
     ]
    }
   ],
   "source": [
    "print(list(zipli))"
   ]
  },
  {
   "cell_type": "code",
   "execution_count": 23,
   "id": "971641ce",
   "metadata": {},
   "outputs": [],
   "source": [
    "zipliListe = list(zip(yemekler,kalori,gun))"
   ]
  },
  {
   "cell_type": "code",
   "execution_count": 24,
   "id": "87566a07",
   "metadata": {},
   "outputs": [
    {
     "data": {
      "text/plain": [
       "[('elma', 100, 'pazartesi'), ('armut', 200, 'sali'), ('muz', 300, 'carsamba')]"
      ]
     },
     "execution_count": 24,
     "metadata": {},
     "output_type": "execute_result"
    }
   ],
   "source": [
    "zipliListe"
   ]
  },
  {
   "cell_type": "code",
   "execution_count": 25,
   "id": "78dc8449",
   "metadata": {},
   "outputs": [
    {
     "name": "stdout",
     "output_type": "stream",
     "text": [
      "[('elma', 100, 'pazartesi'), ('armut', 200, 'sali'), ('muz', 300, 'carsamba')]\n"
     ]
    }
   ],
   "source": [
    "print(list(zip(yemekler,kalori,gun)))"
   ]
  },
  {
   "cell_type": "code",
   "execution_count": 27,
   "id": "bbe660d6",
   "metadata": {},
   "outputs": [
    {
     "name": "stdout",
     "output_type": "stream",
     "text": [
      "<class 'tuple'>\n",
      "<class 'tuple'>\n",
      "<class 'tuple'>\n"
     ]
    }
   ],
   "source": [
    "for eleman in zipliListe:\n",
    "    print(type(eleman))"
   ]
  },
  {
   "cell_type": "code",
   "execution_count": 28,
   "id": "fb671faf",
   "metadata": {},
   "outputs": [
    {
     "name": "stdout",
     "output_type": "stream",
     "text": [
      "('elma', 100, 'pazartesi')\n",
      "('armut', 200, 'sali')\n",
      "('muz', 300, 'carsamba')\n"
     ]
    }
   ],
   "source": [
    "for eleman in zipliListe:\n",
    "    print(eleman)"
   ]
  },
  {
   "cell_type": "markdown",
   "id": "23d15b88",
   "metadata": {},
   "source": [
    "# ^^^^^^^^^^^^^^^^^^^^^^^^^^^^^^^^^^^^^^^^^^^^^"
   ]
  },
  {
   "cell_type": "code",
   "execution_count": 32,
   "id": "6c03401e",
   "metadata": {},
   "outputs": [
    {
     "name": "stdout",
     "output_type": "stream",
     "text": [
      "['Ö', 'm', 'e', 'r', ' ', 'F', 'a', 'r', 'u', 'k', ' ', 'P', 'A', 'K', 'E', 'R']\n"
     ]
    }
   ],
   "source": [
    "isim = \"Ömer Faruk PAKER\"\n",
    "harfler = []\n",
    "\n",
    "for harf in isim:\n",
    "    harfler.append(harf)\n",
    "    \n",
    "print(harfler)"
   ]
  },
  {
   "cell_type": "code",
   "execution_count": 34,
   "id": "677c2025",
   "metadata": {},
   "outputs": [
    {
     "data": {
      "text/plain": [
       "['Ö',\n",
       " 'm',\n",
       " 'e',\n",
       " 'r',\n",
       " ' ',\n",
       " 'F',\n",
       " 'a',\n",
       " 'r',\n",
       " 'u',\n",
       " 'k',\n",
       " ' ',\n",
       " 'P',\n",
       " 'A',\n",
       " 'K',\n",
       " 'E',\n",
       " 'R']"
      ]
     },
     "execution_count": 34,
     "metadata": {},
     "output_type": "execute_result"
    }
   ],
   "source": [
    "harfler2 = [eleman for eleman in isim]\n",
    "harfler2"
   ]
  },
  {
   "cell_type": "code",
   "execution_count": null,
   "id": "94f55577",
   "metadata": {},
   "outputs": [],
   "source": []
  }
 ],
 "metadata": {
  "kernelspec": {
   "display_name": "Python 3 (ipykernel)",
   "language": "python",
   "name": "python3"
  },
  "language_info": {
   "codemirror_mode": {
    "name": "ipython",
    "version": 3
   },
   "file_extension": ".py",
   "mimetype": "text/x-python",
   "name": "python",
   "nbconvert_exporter": "python",
   "pygments_lexer": "ipython3",
   "version": "3.11.5"
  }
 },
 "nbformat": 4,
 "nbformat_minor": 5
}
