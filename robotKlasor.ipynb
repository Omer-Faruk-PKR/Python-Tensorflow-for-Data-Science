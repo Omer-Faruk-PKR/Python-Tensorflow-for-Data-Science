{
 "cells": [
  {
   "cell_type": "code",
   "execution_count": 1,
   "id": "26f38fbd",
   "metadata": {},
   "outputs": [
    {
     "name": "stdout",
     "output_type": "stream",
     "text": [
      "Klasörler başarıyla oluşturuldu.\n"
     ]
    }
   ],
   "source": [
    "import os\n",
    "\n",
    "def create_robot_folders(file_name):\n",
    "    # Dosya adı ile dosyayı aç\n",
    "    with open(file_name, \"r\") as file:\n",
    "        # Her bir satırı oku ve boşlukları kaldırarak robot ismini al\n",
    "        robot_names = [line.strip() for line in file.readlines()]\n",
    "    \n",
    "    # Her bir robot için klasör oluştur\n",
    "    for robot_name in robot_names:\n",
    "        folder_name = robot_name.replace(\" \", \"_\")  # Boşlukları alt çizgi ile değiştirerek geçerli bir klasör adı oluştur\n",
    "        os.makedirs(folder_name, exist_ok=True)  # Klasörü oluştur, varsa hata verme\n",
    "\n",
    "if __name__ == \"__main__\":\n",
    "    file_name = \"robotlar.txt\"  # Robot isimlerinin bulunduğu dosyanın adı\n",
    "    create_robot_folders(file_name)\n",
    "    print(\"Klasörler başarıyla oluşturuldu.\")\n"
   ]
  },
  {
   "cell_type": "code",
   "execution_count": null,
   "id": "464c88c9",
   "metadata": {},
   "outputs": [],
   "source": []
  }
 ],
 "metadata": {
  "kernelspec": {
   "display_name": "Python 3 (ipykernel)",
   "language": "python",
   "name": "python3"
  },
  "language_info": {
   "codemirror_mode": {
    "name": "ipython",
    "version": 3
   },
   "file_extension": ".py",
   "mimetype": "text/x-python",
   "name": "python",
   "nbconvert_exporter": "python",
   "pygments_lexer": "ipython3",
   "version": "3.11.5"
  }
 },
 "nbformat": 4,
 "nbformat_minor": 5
}
